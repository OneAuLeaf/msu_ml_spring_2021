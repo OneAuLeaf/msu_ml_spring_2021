{
 "cells": [
  {
   "cell_type": "markdown",
   "metadata": {},
   "source": [
    "# Алгоритмы интеллектуальной обработки больших объемов данных\n",
    "## Домашнее задание №2: Линейные модели\n"
   ]
  },
  {
   "cell_type": "markdown",
   "metadata": {},
   "source": [
    "###### <hr\\>\n",
    "**Общая информация**\n",
    "\n",
    "**Срок сдачи:** 05 апреля 18:00 Сдача **очная** на онлайн занятии. <br\\>\n",
    "\n",
    "\n",
    "Используйте данный Ipython Notebook при оформлении домашнего задания.\n",
    "\n",
    "Присылать ДЗ необходимо в виде ссылки на свой github репозиторий на почту ml1.sphere@mail.ru с указанием темы в следующем формате:\n",
    "\n",
    "[ML0920, Задание 2] Фамилия Имя.\n",
    "\n",
    "\n",
    "\n",
    "**Штрафные баллы:**\n",
    "\n",
    "1. Невыполнение PEP8 -1 балл\n",
    "2. Отсутствие фамилии в имени скрипта (скрипт должен называться по аналогии со stroykova_hw2.ipynb) -1 балл\n",
    "3. Все строчки должны быть выполнены. Нужно, чтобы output команды можно было увидеть уже в git'е. В противном случае -1 балл\n",
    "4. При оформлении ДЗ нужно пользоваться данным файлом в качестве шаблона. Не нужно удалять и видоизменять написанный код и текст, если явно не указана такая возможность. В противном случае -1 балл\n",
    "<hr\\>"
   ]
  },
  {
   "cell_type": "code",
   "execution_count": 1,
   "metadata": {},
   "outputs": [],
   "source": [
    "import pandas as pd\n",
    "import numpy as np\n",
    "import matplotlib.pyplot as plt\n",
    "\n",
    "%matplotlib inline\n",
    "\n",
    "plt.style.use('ggplot')\n",
    "plt.rcParams['figure.figsize'] = (12,5)"
   ]
  },
  {
   "cell_type": "markdown",
   "metadata": {},
   "source": [
    "Здравствуйте, уважаемые студенты! \n",
    "\n",
    "В этом задании мы будем реализовать линейные модели. Необходимо реализовать линейную и логистическую регрессии с L2 регуляризацией"
   ]
  },
  {
   "cell_type": "markdown",
   "metadata": {},
   "source": [
    "# Теоретическое введение\n",
    "\n"
   ]
  },
  {
   "cell_type": "markdown",
   "metadata": {},
   "source": [
    "Линейная регрессия решает задачу регрессии и оптимизирует функцию потерь MSE \n",
    "\n",
    "$$L(w) =  \\frac{1}{N}\\left[\\sum_i (y_i - a_i) ^ 2 \\right], $$ где $y_i$ $-$ целевая функция,  $a_i = a(x_i) =  \\langle\\,x_i,w\\rangle ,$ $-$ предсказание алгоритма на объекте $x_i$, $w$ $-$ вектор весов (размерности $D$), $x_i$ $-$ вектор признаков (такой же размерности $D$).\n",
    "\n",
    "Не забываем, что здесь и далее  мы считаем, что в $x_i$ есть тождественный вектор единиц, ему соответствует вес $w_0$.\n"
   ]
  },
  {
   "cell_type": "markdown",
   "metadata": {},
   "source": [
    "Логистическая регрессия является линейным классификатором, который оптимизирует так называемый функционал log loss:"
   ]
  },
  {
   "cell_type": "markdown",
   "metadata": {},
   "source": [
    "$$L(w) = - \\frac{1}{N}\\left[\\sum_i y_i \\log a_i + ( 1 - y_i) \\log (1 - a_i) \\right],$$\n",
    "где  $y_i  \\in \\{0,1\\}$ $-$ метка класса, $a_i$ $-$ предсказание алгоритма на объекте $x_i$. Модель пытается предсказать апостериорую вероятность объекта принадлежать к классу \"1\":\n",
    "$$ p(y_i = 1 | x_i) = a(x_i) =  \\sigma( \\langle\\,x_i,w\\rangle ),$$\n",
    "$w$ $-$ вектор весов (размерности $D$), $x_i$ $-$ вектор признаков (такой же размерности $D$).\n",
    "\n",
    "Функция $\\sigma(x)$ $-$ нелинейная функция, пероводящее скалярное произведение объекта на веса в число $\\in (0,1)$ (мы же моделируем вероятность все-таки!)\n",
    "\n",
    "$$\\sigma(x) = \\frac{1}{1 + \\exp(-x)}$$\n",
    "\n",
    "Если внимательно посмотреть на функцию потерь, то можно заметить, что в зависимости от правильного ответа алгоритм штрафуется или функцией $-\\log a_i$, или функцией $-\\log (1 - a_i)$.\n",
    "\n"
   ]
  },
  {
   "cell_type": "markdown",
   "metadata": {},
   "source": [
    "Часто для решения проблем, которые так или иначе связаны с проблемой переобучения, в функционал качества добавляют слагаемое, которое называют ***регуляризацией***. Итоговый функционал для линейной регрессии тогда принимает вид:\n",
    "\n",
    "$$L(w) =  \\frac{1}{N}\\left[\\sum_i (y_i - a_i) ^ 2 \\right] + \\frac{1}{C}R(w) $$\n",
    "\n",
    "Для логистической: \n",
    "$$L(w) = - \\frac{1}{N}\\left[\\sum_i y_i \\log a_i + ( 1 - y_i) \\log (1 - a_i) \\right] +  \\frac{1}{C}R(w)$$\n",
    "\n",
    "Самое понятие регуляризации введено основателем ВМК академиком Тихоновым https://ru.wikipedia.org/wiki/Метод_регуляризации_Тихонова\n",
    "\n",
    "Идейно методика регуляризации заключается в следующем $-$ мы рассматриваем некорректно поставленную задачу (что это такое можно найти в интернете), для того чтобы сузить набор различных вариантов (лучшие из которых будут являться переобучением ) мы вводим дополнительные ограничения на множество искомых решений. На лекции Вы уже рассмотрели два варианта регуляризации.\n",
    "\n",
    "$L1$ регуляризация:\n",
    "$$R(w) = \\sum_{j=1}^{D}|w_j|$$\n",
    "$L2$ регуляризация:\n",
    "$$R(w) =  \\sum_{j=1}^{D}w_j^2$$\n",
    "\n",
    "С их помощью мы ограничиваем модель в  возможности выбора каких угодно весов минимизирующих наш лосс, модель уже не сможет подстроиться под данные как ей угодно. \n",
    "\n",
    "Вам нужно добавить соотвествущую Вашему варианту $L2$ регуляризацию.\n",
    "\n",
    "И так, мы поняли, какую функцию ошибки будем минимизировать, разобрались, как получить предсказания по объекту и обученным весам. Осталось разобраться, как получить оптимальные веса. Для этого нужно выбрать какой-то метод оптимизации.\n",
    "\n"
   ]
  },
  {
   "cell_type": "markdown",
   "metadata": {},
   "source": [
    "Градиентный спуск является самым популярным алгоритмом обучения линейных моделей. В этом задании Вам предложат реализовать стохастический градиентный спуск или  мини-батч градиентный спуск (мини-батч на русский язык довольно сложно перевести, многие переводят это как \"пакетный\", но мне не кажется этот перевод удачным). Далее нам потребуется определение **эпохи**.\n",
    "Эпохой в SGD и MB-GD называется один проход по **всем** объектам в обучающей выборки.\n",
    "* В SGD градиент расчитывается по одному случайному объекту. Сам алгоритм выглядит примерно так:\n",
    "        1) Перемешать выборку\n",
    "        2) Посчитать градиент функции потерь на одном объекте (далее один объект тоже будем называть батчем)\n",
    "        3) Сделать шаг спуска\n",
    "        4) Повторять 2) и 3) пока не пройдет максимальное число эпох.\n",
    "* В Mini Batch SGD - по подвыборке объектов. Сам алгоритм выглядит примерно так::\n",
    "        1) Перемешать выборку, выбрать размер мини-батча (от 1 до размера выборки)\n",
    "        2) Почитать градиент функции потерь по мини-батчу (не забыть поделить на  число объектов в мини-батче)\n",
    "        3) Сделать шаг спуска\n",
    "        4) Повторять 2) и 3) пока не пройдет максимальное число эпох.\n",
    "* Для отладки алгоритма реализуйте возможность  вывода средней ошибки на обучении модели по объектам (мини-батчам). После шага градиентного спуска посчитайте значение ошибки на объекте (или мини-батче), а затем усредните, например, по ста шагам. Если обучение проходит корректно, то мы должны увидеть, что каждые 100 шагов функция потерь уменьшается. \n",
    "* Правило останова - максимальное количество эпох\n",
    "    \n"
   ]
  },
  {
   "cell_type": "markdown",
   "metadata": {},
   "source": [
    "# Теоретические вопросы (2 балла)\n",
    "В этой части Вам будут предложены теоретичские вопросы и задачи по теме. Вы, конечно, можете списать их у своего товарища или найти решение в интернете, но учтите, что они обязательно войдут в теоретический коллоквиум. Лучше разобраться в теме сейчас и успешно ответить на коллоквиуме, чем списать, не разобравшись в материале, и быть терзаемым совестью. \n",
    "\n",
    "\n",
    "Формулы надо оформлять в формате **LaTeX**."
   ]
  },
  {
   "cell_type": "markdown",
   "metadata": {},
   "source": [
    "Задача 1. Градиент для линейной регрессии.\n",
    "* Выпишите формулу обновления весов для линейной регрессии с L2 регуляризацией для мини-батч градиентого спуска размера $n$:\n",
    "\n",
    "$$ w_{new} = w_{old} - ... $$\n",
    "\n",
    " Отнеситесь к этому пункту максимально серьезно, это Вам нужно будет реализовать в задании.\n",
    " \n",
    "Проанализруйте итоговую формулу градиента - как  интуитивно можно  описать, чему равен градиент?"
   ]
  },
  {
   "cell_type": "markdown",
   "metadata": {},
   "source": [
    "***Ваше решение здесь***\n",
    "\n",
    "$$ w_{new} = w_{old} - \\alpha\\left[ \\frac{2}{n}\\sum_{i=0}^n (x_{i}w_{old} - y_i) x_i^{\\mathit T} + \\frac{2}{C} w_{old} \\right]$$\n"
   ]
  },
  {
   "cell_type": "markdown",
   "metadata": {},
   "source": [
    "Задача 2. Градиент для логистической регрессии.\n",
    "* Выпишите формулу обновления весов для логистической регрессии с L2 регуляризацией  для мини-батч градиентого спуска размера $n$:\n",
    "\n",
    "$$ w_{new} = w_{old} - ... $$\n",
    "\n",
    " Отнеситесь к этому пункту максимально серьезно, это Вам нужно будет реализовать в задании.\n",
    " \n",
    "Проанализруйте итоговую формулу градиента - как  интуитивно можно  описать, чему равен градиент? Как соотносится этот градиент с градиентом, возникающий в задаче линейной регрессии?\n",
    "\n",
    "Подсказка: Вам градиент, которой получается если “в лоб” продифференцировать,  надо немного преобразовать.\n",
    "Надо подставить, что $1 - \\sigma(w,x) $ это  $1 - a(x_i)$, а  $-\\sigma(w,x)$ это $0 - a(x_i)$.  Тогда получится свести к одной красивой формуле с линейной регрессией, которую программировать будет намного проще."
   ]
  },
  {
   "cell_type": "markdown",
   "metadata": {},
   "source": [
    "***Ваше решение здесь***\n",
    "\n",
    "$$ w_{new} = w_{old} - \\alpha\\left[ \\frac{1}{n}\\sum_{i=0}^n \\left(\\frac{1}{1 + \\exp(-x_{i}w_{old})} - y_i\\right) x_i^{\\mathit T} + \\frac{2}{C} w_{old} \\right] = w_{old} - \\alpha\\left[ \\frac{1}{n}\\sum_{i=0}^n \\left(\\sigma(x_{i}w_{old}) - y_i\\right) x_i^{\\mathit T} + \\frac{2}{C} w_{old} \\right]$$\n",
    "\n",
    "Таким образом, общая красивая формула (с точностью до констант):\n",
    "$$ w_{new} = w_{old} - \\alpha\\left[ \\frac{1}{n}\\sum_{i=0}^n \\left(a(x_i, w_{old}) - y_i\\right) x_i^{\\mathit T} + \\frac{2}{C} w_{old} \\right]$$"
   ]
  },
  {
   "cell_type": "markdown",
   "metadata": {},
   "source": [
    "Задача 3. Точное решение линейной регрессии\n",
    "\n",
    "На лекции было показано, что точное решение линейной регрессии имеет вид $w = (X^TX)^{-1}X^TY $. \n",
    "* Покажите, что это действительно является точкой минимума в случае, если матрица X имеет строк не меньше, чем столбцов и имеет полный ранг. Подсказка: посчитайте Гессиан и покажите, что в этом случае он положительно определен. \n",
    "* Выпишите точное решение для модели с $L2$ регуляризацией. Как L2 регуляризация помогает с точным решением где матрица X имеет линейно зависимые признаки?"
   ]
  },
  {
   "cell_type": "markdown",
   "metadata": {},
   "source": [
    "***Ваше решение здесь***\n",
    "\n",
    "Гессиан $H(f(x)) = \\left\\{ \\frac{\\partial f}{\\partial x_ix_j} \\right\\}_{i,j=1}^k$\n",
    "\n",
    "В нашем случае: $\\nabla_w Q(w) = \\frac{2}{N} \\left( (X^TX)w - X^Ty \\right) \\Rightarrow H(Q(w)) =\\frac{2}{N} X^TX$\n",
    "\n",
    "Отбросив константу, покажем по определению, что $H(Q(w))$ положительно определена:\n",
    "\n",
    "$$\n",
    "\\forall z \\in \\mathbb{R}^k, z \\neq \\theta: (Hz, z) > 0 \\Leftrightarrow z^TX^TXz = (Xz)^T(Xz) = \\|Xz\\|^2 > 0 \\space ( z \\neq \\theta, rank(X)=k )\n",
    "$$\n",
    "\n",
    "Теперь рассмотрим $L2$ регуляризацию.\n",
    "\n",
    "$$\n",
    "Q(w) = \\frac{1}{N} \\|Xw - y\\|^2 + \\frac{1}{C} \\|w\\|^2 = \\frac{1}{N} (Xw - y)^T(Xw - y) + \\frac{1}{C} w^Tw\n",
    "$$\n",
    "\n",
    "Из необходимого условие минимума:\n",
    "\n",
    "$$\n",
    "\\nabla_w Q(w) = \\frac{2}{N}\\bigl( (X^TX)w - X^Ty \\bigr) + \\frac{2}{C} w = 0 \\newline\n",
    "\\bigl( (X^TX) + \\frac{N}{C} I \\bigr) w = X^Ty \\Rightarrow w^* = \\bigl( (X^TX) + \\frac{N}{C} I \\bigr)^{-1} X^Ty\n",
    "$$\n",
    "\n",
    "Покажем, что всё корректно и матрица $\\left( (X^TX) + \\lambda I \\right), \\lambda = \\frac{N}{C} > 0$ обратима и положительно определена:\n",
    "\n",
    "$$\n",
    "\\forall z \\in \\mathbb{R}^k, z \\neq \\theta: z^T\\left( (X^TX) + \\lambda I \\right)z = z^TX^TXz + \\lambda z^TIz = \\|Xz\\|^2 + \\lambda \\|z\\|^2 > 0 \\space (\\|Xz\\|^2 \\geqslant 0, \\lambda \\|z\\|^2 > 0)\n",
    "$$\n",
    "\n",
    "Таким образом, матрица положительно определена и (по критерию Сильвестра) обратима. Получается $L2$ регулизация гарантирует существование точного решения даже при наличии линейно зависимых признаков."
   ]
  },
  {
   "cell_type": "markdown",
   "metadata": {},
   "source": [
    "Задача 4.  Предсказываем вероятности.\n",
    "\n",
    "Когда говорят о логистической регрессии, произносят фразу, что она \"предсказывает вероятности положительного класса\". Давайте разберемся, что же за этим стоит. Посчитаем математическое ожидание функции потерь и проверим, что предсказание алгоритма, оптимизирующее это мат. ожидание, будет являться вероятностью положительного класса. \n",
    "\n",
    "И так, функция потерь на объекте $x_i$, который имеет метку $y_i \\in \\{0,1\\}$  для предсказания $a(x_i)$ равна:\n",
    "$$L(y_i, b) =-[y_i == 1] \\log a(x_i)  - [y_i == 0] \\log(1 - a(x_i)) $$\n",
    "\n",
    "Где $[]$ означает индикатор $-$ он равен единице, если значение внутри него истинно, иначе он равен нулю. Тогда мат. ожидание при условии конкретного $x_i$  по определение мат. ожидания дискретной случайной величины:\n",
    "$$E(L | x_i) = -p(y_i = 1 |x_i ) \\log a(x_i)  - p(y_i = 0 | x_i) \\log( 1 - a(x_i))$$\n",
    "* Докажите, что значение $a(x_i)$, минимизирующее данное мат. ожидание, в точности равно $p(y_i = 1 |x_i)$, то есть равно вероятности положительного класса.\n",
    "\n",
    "Подсказка: возможно, придется воспользоваться, что  $p(y_i = 1 | x_i) + p(y_i = 0 | x_i) = 1$"
   ]
  },
  {
   "cell_type": "markdown",
   "metadata": {},
   "source": [
    "***Ваше решение здесь***\n",
    "$$E(L | x_i) = -p(y_i = 1 | x_i) \\log a(x_i) - p(y_i = 0 | x_i) \\log( 1 - a(x_i))$$\n",
    "\n",
    "Продифференцируем $E(L | x_i)$ по $a$, с учетом того, что минимизующее $a(x_i) \\not\\equiv 0, a(x_i)\\not\\equiv 1$:\n",
    "\n",
    "$$\\frac{d}{d a(x_i)}E(L | x_i) = -p(y_i = 1 | x_i) \\frac{1}{a(x_i)} + p(y_i = 0 | x_i) \\frac{1}{1 - a(x_i)}$$\n",
    "\n",
    "Пользуясь $p(y_i = 1 | x_i) + p(y_i = 0 | x_i) = 1$ получаем:\n",
    "\n",
    "$$\\frac{d}{d a(x_i)}E(L | x_i) = \\frac{-p(y_i = 1 | x_i)}{a(x_i)} + \\frac{1 - p(y_i = 1 | x_i)}{1 - a(x_i)}$$\n",
    "\n",
    "Тогда необходимое условие минимума:\n",
    "\n",
    "$$\\frac{-p(y_i = 1 | x_i)}{a(x_i)} + \\frac{1 - p(y_i = 1 | x_i)}{1 - a(x_i)} = 0 \\Rightarrow a^*(x_i) = p(y_i = 1 | x_i)$$\n",
    "\n",
    "Проверим, что $a^*(x_i)$ действительно минимум:\n",
    "\n",
    "$$\\frac{d^2}{d a(x_i)^2}E(L | x_i) = \\frac{p(y_i = 1 | x_i)}{a(x_i)^2} + \\frac{1 - p(y_i = 1 | x_i)}{(1 - a(x_i))^2} \\geqslant 0 $$"
   ]
  },
  {
   "cell_type": "markdown",
   "metadata": {},
   "source": [
    "Задача 5.  Смысл регуляризации.\n",
    "\n",
    "Нужно ли в L1/L2 регуляризации использовать свободный член $w_0$ (который не умножается ни на какой признак)?\n",
    "\n",
    "Подсказка: подумайте, для чего мы вводим $w_0$"
   ]
  },
  {
   "cell_type": "markdown",
   "metadata": {},
   "source": [
    "***Ваше решение здесь***\n",
    "\n",
    "Нет. Мы используем $w_0$ чтобы учитывать смещение целевой переменной на нулевом векторе весов (смещение гиперплоскости). Странно учитывать априорное представление о том, что смещение мало."
   ]
  },
  {
   "cell_type": "markdown",
   "metadata": {},
   "source": [
    "#  Реализация линейной модели (4 балла)"
   ]
  },
  {
   "cell_type": "markdown",
   "metadata": {},
   "source": [
    "## Зачем нужны батчи?\n"
   ]
  },
  {
   "cell_type": "markdown",
   "metadata": {},
   "source": [
    "Как Вы могли заметить из теоретического введения, что в случае SGD, что в случа mini-batch GD,  на каждой итерации обновление весов  происходит только по небольшой части данных (1 пример в случае SGD, batch примеров в случае mini-batch). То есть для каждой итерации нам *** не нужна вся выборка***. Мы можем просто итерироваться по выборке, беря батч нужного размера (далее 1 объект тоже будем называть батчом).\n",
    "\n",
    "Легко заметить, что в этом случае нам не нужно загружать все данные в оперативную память, достаточно просто считать батч с диска, обновить веса, считать диска другой батч и так далее. В целях упрощения домашней работы, прямо с диска  мы считывать не будем, будем работать с обычными numpy array. \n",
    "\n",
    "\n",
    "\n"
   ]
  },
  {
   "cell_type": "markdown",
   "metadata": {},
   "source": [
    "## Немножко про генераторы в Python\n",
    "\n"
   ]
  },
  {
   "cell_type": "markdown",
   "metadata": {},
   "source": [
    "Идея считывания данных кусками удачно ложится на так называемые ***генераторы*** из языка Python. В данной работе Вам предлагается не только разобраться с логистической регрессией, но  и познакомиться с таким важным элементом языка.  При желании Вы можете убрать весь код, связанный с генераторами, и реализовать логистическую регрессию и без них, ***штрафоваться это никак не будет***. Главное, чтобы сама модель была реализована правильно, и все пункты были выполнены. \n",
    "\n",
    "Подробнее можно почитать вот тут https://anandology.com/python-practice-book/iterators.html\n"
   ]
  },
  {
   "cell_type": "markdown",
   "metadata": {},
   "source": [
    "К генератору стоит относиться просто как к функции, которая порождает не один объект, а целую последовательность объектов. Новое значение из последовательности генерируется с помощью ключевого слова ***yield***. Ниже Вы можете насладиться  генератором чисел Фибоначчи."
   ]
  },
  {
   "cell_type": "code",
   "execution_count": 2,
   "metadata": {},
   "outputs": [],
   "source": [
    "def fib(max_iter=4):\n",
    "    a, b = 0, 1\n",
    "    iter_num = 0\n",
    "    while 1:\n",
    "        yield a\n",
    "        a, b = b, a + b\n",
    "        iter_num += 1\n",
    "        if iter_num == max_iter:\n",
    "            break"
   ]
  },
  {
   "cell_type": "markdown",
   "metadata": {},
   "source": [
    "Вот так можно сгенерировать последовательность Фибоначчи. \n",
    "\n",
    "Заметьте, что к генераторам можно применять некоторые стандартные функции из Python, например enumerate."
   ]
  },
  {
   "cell_type": "code",
   "execution_count": 3,
   "metadata": {},
   "outputs": [
    {
     "name": "stdout",
     "output_type": "stream",
     "text": [
      "Fib num: 0 fib values: 0\n",
      "Fib num: 1 fib values: 1\n",
      "Fib num: 2 fib values: 1\n",
      "Fib num: 3 fib values: 2\n"
     ]
    }
   ],
   "source": [
    "new_generator = fib()\n",
    "for j, fib_val in enumerate(new_generator):\n",
    "    print (\"Fib num: \" + str(j) + \" fib values: \" + str(fib_val))"
   ]
  },
  {
   "cell_type": "markdown",
   "metadata": {},
   "source": [
    "Пересоздавая объект, можно сколько угодно раз генерировать заново последовательность. "
   ]
  },
  {
   "cell_type": "code",
   "execution_count": 4,
   "metadata": {},
   "outputs": [
    {
     "name": "stdout",
     "output_type": "stream",
     "text": [
      "Fib num: 0 fib values: 0\n",
      "Fib num: 1 fib values: 1\n",
      "Fib num: 2 fib values: 1\n",
      "Fib num: 3 fib values: 2\n",
      "Fib num: 0 fib values: 0\n",
      "Fib num: 1 fib values: 1\n",
      "Fib num: 2 fib values: 1\n",
      "Fib num: 3 fib values: 2\n",
      "Fib num: 0 fib values: 0\n",
      "Fib num: 1 fib values: 1\n",
      "Fib num: 2 fib values: 1\n",
      "Fib num: 3 fib values: 2\n"
     ]
    }
   ],
   "source": [
    "for i in range(0, 3):\n",
    "    new_generator = fib()\n",
    "    for j, fib_val in enumerate(new_generator):\n",
    "        print (\"Fib num: \" + str(j) + \" fib values: \" + str(fib_val))"
   ]
  },
  {
   "cell_type": "markdown",
   "metadata": {},
   "source": [
    "А вот так уже нельзя."
   ]
  },
  {
   "cell_type": "code",
   "execution_count": 5,
   "metadata": {},
   "outputs": [
    {
     "name": "stdout",
     "output_type": "stream",
     "text": [
      "Fib num: 0 fib values: 0\n",
      "Fib num: 1 fib values: 1\n",
      "Fib num: 2 fib values: 1\n",
      "Fib num: 3 fib values: 2\n"
     ]
    }
   ],
   "source": [
    "new_generator = fib()\n",
    "for i in range(0, 3):\n",
    "    for j, fib_val in enumerate(new_generator):\n",
    "        print (\"Fib num: \" + str(j) + \" fib values: \" + str(fib_val))"
   ]
  },
  {
   "cell_type": "markdown",
   "metadata": {},
   "source": [
    "Концепция крайне удобная для обучения  моделей $-$ у Вас есть некий источник данных, который Вам выдает их кусками, и Вам совершенно все равно откуда он их берет. Под ним может скрывать как массив в оперативной памяти, как файл на жестком диске, так и SQL база данных. Вы сами данные никуда не сохраняете, оперативную память экономите."
   ]
  },
  {
   "cell_type": "markdown",
   "metadata": {},
   "source": [
    "Если Вам понравилась идея с генераторами, то Вы можете реализовать свой, используя прототип batch_generator. В нем Вам нужно выдавать батчи признаков и ответов для каждой новой итерации спуска. Если не понравилась идея, то можете реализовывать SGD или mini-batch GD без генераторов."
   ]
  },
  {
   "cell_type": "code",
   "execution_count": 6,
   "metadata": {},
   "outputs": [],
   "source": [
    "def batch_generator(X, y, shuffle=True, batch_size=1):\n",
    "    \"\"\"\n",
    "    Гератор новых батчей для обучения\n",
    "    X          - матрица объекты-признаки\n",
    "    y_batch    - вектор ответов\n",
    "    shuffle    - нужно ли случайно перемешивать выборку\n",
    "    batch_size - размер батча ( 1 это SGD, > 1 mini-batch GD)\n",
    "    Генерирует подвыборку для итерации спуска (X_batch, y_batch)\n",
    "    \"\"\"\n",
    "\n",
    "    if batch_size > X.shape[0]:\n",
    "        batch_size = X.shape[0]\n",
    "\n",
    "    idxs = np.arange(X.shape[0])\n",
    "    if shuffle:\n",
    "        np.random.shuffle(idxs)\n",
    "    rem_idx = X.shape[0] - X.shape[0] % batch_size\n",
    "\n",
    "    for batch in idxs[:rem_idx].reshape(-1, batch_size):\n",
    "        X_batch = X[batch]\n",
    "        y_batch = y[batch]\n",
    "        yield (X_batch, y_batch)\n",
    "\n",
    "    if  X.shape[0] % batch_size:\n",
    "        yield (X[idxs[rem_idx:]], y[idxs[rem_idx:]])\n",
    "\n",
    "# Теперь можно сделать генератор по данным ()\n",
    "#  my_batch_generator = batch_generator(X, y, shuffle=True, batch_size=1):"
   ]
  },
  {
   "cell_type": "code",
   "execution_count": 7,
   "metadata": {},
   "outputs": [],
   "source": [
    "#%%pycodestyle\n",
    "from sklearn.base import BaseEstimator, ClassifierMixin\n",
    "\n",
    "\n",
    "def sigmoid(x):\n",
    "    \"\"\"\n",
    "    Вычисляем значение сигмоида.\n",
    "    X - выход линейной модели\n",
    "    \"\"\"\n",
    "    \n",
    "    return 1.0 / (1.0 + np.exp(-x))\n",
    "\n",
    "\n",
    "class MySGDClassifier(BaseEstimator, ClassifierMixin):\n",
    "    \n",
    "    def __init__(self, batch_generator, C=1, alpha=0.01, max_epoch=10, model_type='lin_reg', bound=0.5):\n",
    "        \"\"\"\n",
    "        batch_generator -- функция генератор, которой будем создавать батчи\n",
    "        C - коэф. регуляризации\n",
    "        alpha - скорость спуска\n",
    "        max_epoch - максимальное количество эпох\n",
    "        model_type - тим модели, lin_reg или log_reg\n",
    "        \"\"\"\n",
    "        \n",
    "        self.C = C\n",
    "        self.alpha = alpha\n",
    "        self.max_epoch = max_epoch\n",
    "        self.batch_generator = batch_generator\n",
    "        self.errors_log = {'iter': [], 'loss': []}  \n",
    "        self.model_type = model_type\n",
    "        self.bound = bound\n",
    "        \n",
    "    def calc_loss(self, X_batch, y_batch):\n",
    "        \"\"\"\n",
    "        Считаем функцию потерь по батчу \n",
    "        X_batch - матрица объекты-признаки по батчу\n",
    "        y_batch - вектор ответов по батчу\n",
    "        Не забудте тип модели (линейная или логистическая регрессия)!\n",
    "        \"\"\"\n",
    "        \n",
    "        w = self.weights[1:]\n",
    "        w0 = self.weights[0]\n",
    "        a = np.dot(X_batch, w) + w0\n",
    "        if self.model_type == \"log_reg\":\n",
    "            a = sigmoid(a)\n",
    "        \n",
    "        if self.model_type == \"lin_reg\":\n",
    "            loss = (a - (y_batch - 0.5) * 2) ** 2\n",
    "        elif self.model_type == \"log_reg\":\n",
    "            loss = -(y_batch * np.log(a) + (1 - y_batch) * np.log(1.0 - a))\n",
    "        else:\n",
    "            raise NotImplementedError\n",
    "        \n",
    "        loss = loss.mean() + (1.0 / self.C) * np.dot(w, w)\n",
    "        \n",
    "        return loss\n",
    "    \n",
    "    def calc_loss_grad(self, X_batch, y_batch):\n",
    "        \"\"\"\n",
    "        Считаем  градиент функции потерь по батчу (то что Вы вывели в задании 1)\n",
    "        X_batch - матрица объекты-признаки по батчу\n",
    "        y_batch - вектор ответов по батчу\n",
    "        Не забудте тип модели (линейная или логистическая регрессия)!\n",
    "        \"\"\"\n",
    "        \n",
    "        w = self.weights[1:]\n",
    "        w0 = self.weights[0]\n",
    "        a = np.dot(X_batch, w) + w0\n",
    "        if self.model_type == \"log_reg\":\n",
    "            a = sigmoid(a)\n",
    "\n",
    "        loss_grad = np.zeros(self.weights.shape)\n",
    "        if self.model_type == \"lin_reg\":\n",
    "            loss_grad[0] = (a - (y_batch - 0.5) * 2).sum()\n",
    "            loss_grad[1:] = np.dot(X_batch.T, a - (y_batch - 0.5) * 2)\n",
    "            loss_grad *= 2.0 / X_batch.shape[0];\n",
    "        elif self.model_type == \"log_reg\":\n",
    "            loss_grad[0] = (a - y_batch).sum()\n",
    "            loss_grad[1:] = np.dot(X_batch.T, a - y_batch)\n",
    "            loss_grad *= 1.0 / X_batch.shape[0];\n",
    "        else:\n",
    "            raise NotImplementedError\n",
    "        \n",
    "        loss_grad[1:] += (2.0 / self.C) * (w)\n",
    "        \n",
    "        return loss_grad\n",
    "    \n",
    "    def update_weights(self, new_grad):\n",
    "        \"\"\"\n",
    "        Обновляем вектор весов\n",
    "        new_grad - градиент по батчу\n",
    "        \"\"\"\n",
    "        \n",
    "        self.weights -= self.alpha * new_grad\n",
    "    \n",
    "    def fit(self, X, y):\n",
    "        '''\n",
    "        Обучение модели\n",
    "        X - матрица объекты-признаки\n",
    "        y - вектор ответов\n",
    "        '''\n",
    "        X = np.asarray(X)\n",
    "        y = np.asarray(y)\n",
    "        # Нужно инициализровать случайно веса\n",
    "        self.weights = np.random.rand(X.shape[1] + 1)\n",
    "        for n in range(0, self.max_epoch):\n",
    "            new_epoch_generator = self.batch_generator(X, y)\n",
    "            for batch_num, new_batch in enumerate(new_epoch_generator):\n",
    "                X_batch = new_batch[0]\n",
    "                y_batch = new_batch[1]\n",
    "                batch_grad = self.calc_loss_grad(X_batch, y_batch)\n",
    "                self.update_weights(batch_grad)\n",
    "                batch_loss = self.calc_loss(X_batch, y_batch)\n",
    "                self.errors_log['iter'].append(batch_num)\n",
    "                self.errors_log['loss'].append(batch_loss)\n",
    "        \n",
    "        return self\n",
    "        \n",
    "    def predict(self, X):\n",
    "        '''\n",
    "        Предсказание класса\n",
    "        X - матрица объекты-признаки\n",
    "        Не забудте тип модели (линейная или логистическая регрессия)!\n",
    "        '''\n",
    "        w = self.weights[1:]\n",
    "        w0 = self.weights[0]\n",
    "        a = np.dot(X, w) + w0\n",
    "        if self.model_type == \"lin_reg\":\n",
    "            y_hat = a > (self.bound - 0.5)\n",
    "        elif self.model_type == \"log_reg\":\n",
    "            y_hat = sigmoid(a) > self.bound\n",
    "        else:\n",
    "            raise NotImplementedError\n",
    "        return y_hat"
   ]
  },
  {
   "cell_type": "markdown",
   "metadata": {},
   "source": [
    "Запустите обе регрессии на синтетических данных. \n",
    "\n",
    "\n",
    "Выведите полученные веса и нарисуйте разделяющую границу между классами (используйте только первых два веса для первых двух признаков X[:,0], X[:,1] для отображения в 2d пространство ).  "
   ]
  },
  {
   "cell_type": "code",
   "execution_count": 8,
   "metadata": {},
   "outputs": [],
   "source": [
    "def plot_decision_boundary(clf, color):\n",
    "    b = -clf.weights[0] / clf.weights[2]\n",
    "    k = -clf.weights[1] / clf.weights[2]\n",
    "    plt.plot([-2, 6], [k * -2 + b, k * 6 + b], color=color)"
   ]
  },
  {
   "cell_type": "code",
   "execution_count": 9,
   "metadata": {},
   "outputs": [
    {
     "name": "stdout",
     "output_type": "stream",
     "text": [
      "Веса линейной регрессии: [-1.25142015  0.28981686 -0.32811027]\n",
      "Веса логистической регрессии [-2.57237998  0.68064895 -0.55117192]\n"
     ]
    },
    {
     "data": {
      "image/png": "[encoded data removed]",
      "text/plain": [
       "<Figure size 864x360 with 1 Axes>"
      ]
     },
     "metadata": {},
     "output_type": "display_data"
    }
   ],
   "source": [
    "np.random.seed(0)\n",
    "\n",
    "C1 = np.array([[0., -0.8], [1.5, 0.8]])\n",
    "C2 = np.array([[1., -0.7], [2., 0.7]])\n",
    "gauss1 = np.dot(np.random.randn(200, 2) + np.array([5, 3]), C1)\n",
    "gauss2 = np.dot(np.random.randn(200, 2) + np.array([1.5, 0]), C2)\n",
    "\n",
    "X = np.vstack([gauss1, gauss2])\n",
    "y = np.r_[np.ones(200), np.zeros(200)]\n",
    "\n",
    "batch_gen = lambda X, y: batch_generator(X, y, shuffle=True, batch_size=10) \n",
    "\n",
    "lin_reg = MySGDClassifier(C=100, batch_generator=batch_gen, model_type=\"lin_reg\", max_epoch=100)\n",
    "lin_reg.fit(X, y)\n",
    "plot_decision_boundary(lin_reg, \"g\")\n",
    "print(\"Веса линейной регрессии:\", lin_reg.weights)\n",
    "\n",
    "log_reg = MySGDClassifier(C=100, batch_generator=batch_gen, model_type=\"log_reg\", max_epoch=100)\n",
    "log_reg.fit(X, y)\n",
    "plot_decision_boundary(log_reg, \"r\")\n",
    "print(\"Веса логистической регрессии\", log_reg.weights)\n",
    "\n",
    "_ = plt.scatter(X[:,0], X[:,1], c=y)"
   ]
  },
  {
   "cell_type": "markdown",
   "metadata": {},
   "source": [
    "Далее будем анализировать Ваш алгоритм. \n",
    "Для этих заданий используйте датасет ниже."
   ]
  },
  {
   "cell_type": "code",
   "execution_count": 10,
   "metadata": {},
   "outputs": [],
   "source": [
    "from sklearn.datasets import make_classification"
   ]
  },
  {
   "cell_type": "code",
   "execution_count": 11,
   "metadata": {},
   "outputs": [],
   "source": [
    "X, y = make_classification(n_samples=100000, n_features=10, \n",
    "                           n_informative=4, n_redundant=0, \n",
    "                           random_state=123, class_sep=1.0,\n",
    "                           n_clusters_per_class=1)"
   ]
  },
  {
   "cell_type": "markdown",
   "metadata": {},
   "source": [
    "Покажите сходимости обеих регрессией на этом датасете: изобразите график  функции потерь, усредненной по $N$ шагам градиентого спуска, для разных `alpha` (размеров шага). Разные `alpha` расположите на одном графике. \n",
    "\n",
    "$N$ можно брать 10, 50, 100 и т.д. "
   ]
  },
  {
   "cell_type": "code",
   "execution_count": 12,
   "metadata": {},
   "outputs": [],
   "source": [
    "N = 50\n",
    "batch_gen = lambda X, y: batch_generator(X, y, shuffle=True, batch_size=200)\n",
    "\n",
    "alpha_grid = [0.001, 0.005, 0.01, 0.05, 0.1, 0.2]\n",
    "alpha_loss = {\"lin_reg\": [], \"log_reg\": []}\n",
    "\n",
    "for alpha in alpha_grid:\n",
    "    lin_reg = MySGDClassifier(batch_generator=batch_gen, C=100, alpha=alpha, model_type=\"lin_reg\", max_epoch=10)\n",
    "    lin_reg.fit(X, y)\n",
    "    loss = np.array(lin_reg.errors_log[\"loss\"]).reshape(-1, N).mean(axis=1)\n",
    "    alpha_loss[\"lin_reg\"].append(loss)\n",
    "    \n",
    "    log_reg = MySGDClassifier(batch_generator=batch_gen, C=100, alpha=alpha, model_type=\"log_reg\", max_epoch=10)\n",
    "    log_reg.fit(X, y)\n",
    "    loss = np.array(log_reg.errors_log[\"loss\"]).reshape(-1, N).mean(axis=1)\n",
    "    alpha_loss[\"log_reg\"].append(loss)"
   ]
  },
  {
   "cell_type": "code",
   "execution_count": 13,
   "metadata": {},
   "outputs": [
    {
     "data": {
      "image/png": "[encoded data removed]",
      "text/plain": [
       "<Figure size 1080x720 with 2 Axes>"
      ]
     },
     "metadata": {},
     "output_type": "display_data"
    }
   ],
   "source": [
    "fig = plt.figure(figsize=(15,10))\n",
    "axes = fig.subplots(2,1, sharex=True)\n",
    "\n",
    "for ax, model in zip(axes, alpha_loss):\n",
    "    ax.set_title(model)\n",
    "    ax.set_ylim(0.0, 1.0)\n",
    "    for alpha, loss in zip(alpha_grid, alpha_loss[model]):\n",
    "        loss_steps = np.arange(loss.shape[0]) * N\n",
    "        ax.plot(loss_steps, loss, label=str(alpha))\n",
    "    ax.legend()"
   ]
  },
  {
   "cell_type": "markdown",
   "metadata": {},
   "source": [
    "Что Вы можете сказать про сходимость метода при различных `alpha`? Какое значение стоит выбирать для лучшей сходимости?"
   ]
  },
  {
   "cell_type": "markdown",
   "metadata": {},
   "source": [
    "***Мой ответ здесь***\n",
    "\n",
    "Чем `alpha` больше, тем сходится быстрее. Однако при слишком больших `alpha` значения начинают \"прыгать\" вокруг минимума (`lin_loss` с `alpha = 0.2`)."
   ]
  },
  {
   "cell_type": "markdown",
   "metadata": {},
   "source": [
    "Изобразите график среднего значения весов для обеих регрессий в зависимости от коеф. регуляризации С из `np.logspace(3, -3, 10)` "
   ]
  },
  {
   "cell_type": "code",
   "execution_count": 20,
   "metadata": {},
   "outputs": [],
   "source": [
    "batch_gen = lambda X, y: batch_generator(X, y, shuffle=True, batch_size=200)\n",
    "\n",
    "C_grid = np.logspace(3, -3, 10)\n",
    "weights = {\"lin_reg\": [], \"log_reg\": []}\n",
    "\n",
    "for C in C_grid:\n",
    "    lin_reg = MySGDClassifier(batch_generator=batch_gen, C=C, alpha=0.0001, model_type=\"lin_reg\", max_epoch=10)\n",
    "    lin_reg.fit(X, y)\n",
    "    weights[\"lin_reg\"].append(np.abs(lin_reg.weights[1:]).mean())\n",
    "    \n",
    "    log_reg = MySGDClassifier(batch_generator=batch_gen, C=C, alpha=0.0001, model_type=\"log_reg\", max_epoch=10)\n",
    "    log_reg.fit(X, y)\n",
    "    weights[\"log_reg\"].append(np.abs(log_reg.weights[1:]).mean())"
   ]
  },
  {
   "cell_type": "code",
   "execution_count": 21,
   "metadata": {
    "scrolled": false
   },
   "outputs": [
    {
     "data": {
      "image/png": "[encoded data removed]",
      "text/plain": [
       "<Figure size 1080x720 with 2 Axes>"
      ]
     },
     "metadata": {},
     "output_type": "display_data"
    }
   ],
   "source": [
    "fig = plt.figure(figsize=(15,10))\n",
    "axes = fig.subplots(2,1, sharex=True)\n",
    "\n",
    "for ax, model in zip(axes, weights):\n",
    "    ax.set_title(model)\n",
    "    ax.plot(C_grid, weights[model])\n",
    "    ax.set_xscale('log')"
   ]
  },
  {
   "cell_type": "markdown",
   "metadata": {},
   "source": [
    "Довольны ли Вы, насколько сильно уменьшились Ваши веса?"
   ]
  },
  {
   "cell_type": "code",
   "execution_count": 22,
   "metadata": {
    "scrolled": true
   },
   "outputs": [
    {
     "data": {
      "text/plain": [
       "[0.16113880681062726,\n",
       " 0.23035823627561833,\n",
       " 0.19914203073262884,\n",
       " 0.18095844258281138,\n",
       " 0.12373830709062492,\n",
       " 0.07047314400944932,\n",
       " 0.022400681863669565,\n",
       " 0.006155386508145385,\n",
       " 0.0014525605857026282,\n",
       " 0.00032119239114609846]"
      ]
     },
     "execution_count": 22,
     "metadata": {},
     "output_type": "execute_result"
    }
   ],
   "source": [
    "weights[\"lin_reg\"]"
   ]
  },
  {
   "cell_type": "code",
   "execution_count": 23,
   "metadata": {},
   "outputs": [
    {
     "data": {
      "text/plain": [
       "[0.47471375944350325,\n",
       " 0.4116416960818742,\n",
       " 0.4118207668720598,\n",
       " 0.3608672679698768,\n",
       " 0.24760382570076964,\n",
       " 0.05362721345423682,\n",
       " 0.008030496789832956,\n",
       " 0.0016673545789906766,\n",
       " 0.00035598717848958774,\n",
       " 8.020299024516807e-05]"
      ]
     },
     "execution_count": 23,
     "metadata": {},
     "output_type": "execute_result"
    }
   ],
   "source": [
    "weights[\"log_reg\"]"
   ]
  },
  {
   "cell_type": "markdown",
   "metadata": {},
   "source": [
    "***Мой ответ здесь***\n",
    "\n",
    "Вполне, при средних `C`. При слишком больших регуляризация не играет роли, при слишком маленьких наоборот."
   ]
  },
  {
   "cell_type": "markdown",
   "metadata": {},
   "source": [
    "# Боевое применение (4  балла)\n",
    "\n",
    "**Защита данной части возможна только при преодолении в проекте бейзлайна Handmade baseline.**"
   ]
  },
  {
   "cell_type": "markdown",
   "metadata": {},
   "source": [
    "Давайте применим модель на итоговом проекте! Датасет сделаем точно таким же образом, как было показано в project_overview.ipynb\n",
    "\n",
    "Применим обе регрессии, подберем для них параметры и сравним качество. Может быть Вы еще одновременно с решением домашней работы подрастете на лидерборде!"
   ]
  },
  {
   "cell_type": "code",
   "execution_count": 24,
   "metadata": {},
   "outputs": [
    {
     "name": "stdout",
     "output_type": "stream",
     "text": [
      "28026\n"
     ]
    }
   ],
   "source": [
    "doc_to_title = {}\n",
    "with open('docs_titles.tsv', encoding=\"utf-8\") as f:\n",
    "    for num_line, line in enumerate(f):\n",
    "        if num_line == 0:\n",
    "            continue\n",
    "        data = line.strip().split('\\t', 1)\n",
    "        doc_id = int(data[0])\n",
    "        if len(data) == 1:\n",
    "            title = ''\n",
    "        else:\n",
    "            title = data[1]\n",
    "        doc_to_title[doc_id] = title\n",
    "print (len(doc_to_title))\n"
   ]
  },
  {
   "cell_type": "code",
   "execution_count": 25,
   "metadata": {},
   "outputs": [],
   "source": [
    "import pandas as pd\n",
    "train_data = pd.read_csv('train_groups.csv')\n",
    "traingroups_titledata = {}\n",
    "for i in range(len(train_data)):\n",
    "    new_doc = train_data.iloc[i]\n",
    "    doc_group = new_doc['group_id']\n",
    "    doc_id = new_doc['doc_id']\n",
    "    target = new_doc['target']\n",
    "    title = doc_to_title[doc_id]\n",
    "    if doc_group not in traingroups_titledata:\n",
    "        traingroups_titledata[doc_group] = []\n",
    "    traingroups_titledata[doc_group].append((doc_id, title, target))"
   ]
  },
  {
   "cell_type": "code",
   "execution_count": 26,
   "metadata": {},
   "outputs": [
    {
     "name": "stdout",
     "output_type": "stream",
     "text": [
      "(11690, 15) (11690,) (11690,)\n"
     ]
    }
   ],
   "source": [
    "import numpy as np\n",
    "y_train = []\n",
    "X_train = []\n",
    "groups_train = []\n",
    "for new_group in traingroups_titledata:\n",
    "    docs = traingroups_titledata[new_group]\n",
    "    for k, (doc_id, title, target_id) in enumerate(docs):\n",
    "        y_train.append(target_id)\n",
    "        groups_train.append(new_group)\n",
    "        all_dist = []\n",
    "        words = set(title.strip().split())\n",
    "        for j in range(0, len(docs)):\n",
    "            if k == j:\n",
    "                continue\n",
    "            doc_id_j, title_j, target_j = docs[j]\n",
    "            words_j = set(title_j.strip().split())\n",
    "            all_dist.append(len(words.intersection(words_j)))\n",
    "        X_train.append(sorted(all_dist, reverse=True)[0:15]    )\n",
    "X_train = np.array(X_train)\n",
    "y_train = np.array(y_train)\n",
    "groups_train = np.array(groups_train)\n",
    "print (X_train.shape, y_train.shape, groups_train.shape)"
   ]
  },
  {
   "cell_type": "code",
   "execution_count": 27,
   "metadata": {},
   "outputs": [
    {
     "data": {
      "text/plain": [
       "(129,)"
      ]
     },
     "execution_count": 27,
     "metadata": {},
     "output_type": "execute_result"
    }
   ],
   "source": [
    "np.unique(groups_train).shape"
   ]
  },
  {
   "cell_type": "code",
   "execution_count": 28,
   "metadata": {
    "scrolled": true
   },
   "outputs": [
    {
     "name": "stdout",
     "output_type": "stream",
     "text": [
      "92 36\n"
     ]
    }
   ],
   "source": [
    "cn = 0\n",
    "cp = 0\n",
    "for group in range(1, 130):\n",
    "    idxs = np.where(groups_train == group)\n",
    "    uniq = np.unique(y_train[idxs], return_counts=True)[1]\n",
    "    if uniq[1] > uniq[0]: cp += 1\n",
    "    if uniq[1] < uniq[0]: cn += 1\n",
    "print(cn, cp)"
   ]
  },
  {
   "cell_type": "markdown",
   "metadata": {},
   "source": [
    "Подберите размер батча для обучения. Линейная модель не должна учиться дольше нескольких минут. \n",
    "\n",
    "Не забывайте использовать скейлер!"
   ]
  },
  {
   "cell_type": "code",
   "execution_count": 29,
   "metadata": {},
   "outputs": [],
   "source": [
    "from sklearn.metrics import f1_score, recall_score, precision_score\n",
    "from sklearn.linear_model import LinearRegression\n",
    "from sklearn.preprocessing import StandardScaler"
   ]
  },
  {
   "cell_type": "code",
   "execution_count": 30,
   "metadata": {},
   "outputs": [],
   "source": [
    "scaler = StandardScaler()\n",
    "X_train = scaler.fit_transform(X_train)"
   ]
  },
  {
   "cell_type": "code",
   "execution_count": 31,
   "metadata": {},
   "outputs": [],
   "source": [
    "n_splits = 13\n",
    "np.random.seed(0)\n",
    "\n",
    "def cv(groups):\n",
    "    for group in np.arange(1, 130, 10):\n",
    "        idxs = (groups < group + 10) & (groups >= group)\n",
    "        yield (np.where(~idxs), np.where(idxs))\n",
    "\n",
    "def validate(clf, X, y, groups):\n",
    "    f_scores = np.zeros(n_splits)\n",
    "    \n",
    "    for i, (idxs_train, idxs_val) in enumerate(cv(groups)):\n",
    "        X_train = X[idxs_train]\n",
    "        X_val = X[idxs_val]\n",
    "        y_train = y[idxs_train]\n",
    "        y_val = y[idxs_val]\n",
    "\n",
    "        clf.fit(X_train, y_train)\n",
    "        y_pred = clf.predict(X_val)\n",
    "        f_scores[i] = f1_score(y_val, y_pred)\n",
    "\n",
    "    return f_scores.mean()\n",
    "\n",
    "def mean_validate(clf, X, y, groups, n=10):\n",
    "    scores = np.zeros(n)\n",
    "    for i in range(n):\n",
    "        scores[i] = validate(clf, X, y, groups)\n",
    "    return scores.mean()"
   ]
  },
  {
   "cell_type": "markdown",
   "metadata": {},
   "source": [
    "Разбейте данные на обучение и валидацию. Подберите параметры C, alpha, max_epoch, model_type на валидации (Вы же помните, как правильно в этой задаче делать валидацию?)"
   ]
  },
  {
   "cell_type": "code",
   "execution_count": 32,
   "metadata": {},
   "outputs": [],
   "source": [
    "batch_gen = lambda X, y: batch_generator(X, y, shuffle=False, batch_size=200)\n",
    "\n",
    "params = {\n",
    "    \"C\": [0.001, 0.005, 0.01, 0.05, 0.1, 1, 10, 50, 100, 500, 1000],\n",
    "    \"alpha\": [0.00001, 0.00005, 0.0001, 0.0005, 0.001, 0.005, 0.01, 0.05, 0.1],\n",
    "    \"max_epoch\":[5, 10, 20, 50, 100],\n",
    "}\n",
    "\n",
    "best_lin = {\n",
    "    \"C\": None,\n",
    "    \"alpha\": None,\n",
    "    \"max_epoch\": None,\n",
    "    \"bound\": None\n",
    "}\n",
    "\n",
    "best_log = {\n",
    "    \"C\": None,\n",
    "    \"alpha\": None,\n",
    "    \"max_epoch\": None,\n",
    "    \"bound\": None\n",
    "}"
   ]
  },
  {
   "cell_type": "code",
   "execution_count": 33,
   "metadata": {
    "scrolled": false
   },
   "outputs": [
    {
     "name": "stdout",
     "output_type": "stream",
     "text": [
      "Start with 0.001\n"
     ]
    },
    {
     "name": "stderr",
     "output_type": "stream",
     "text": [
      "d:\\packprogs\\python379conda\\lib\\site-packages\\ipykernel_launcher.py:50: RuntimeWarning: divide by zero encountered in log\n"
     ]
    },
    {
     "name": "stdout",
     "output_type": "stream",
     "text": [
      "End with score 0.4300374854445175 0.4316329460936409\n",
      "Start with 0.005\n",
      "End with score 0.4472476211150602 0.4404830733476774\n",
      "Start with 0.01\n",
      "End with score 0.4560720121471336 0.4441363477114274\n",
      "Start with 0.05\n"
     ]
    },
    {
     "name": "stderr",
     "output_type": "stream",
     "text": [
      "d:\\packprogs\\python379conda\\lib\\site-packages\\ipykernel_launcher.py:50: RuntimeWarning: invalid value encountered in multiply\n"
     ]
    },
    {
     "name": "stdout",
     "output_type": "stream",
     "text": [
      "End with score 0.48852546225492144 0.5194919342154978\n",
      "Start with 0.1\n",
      "End with score 0.530182743386323 0.576492575450522\n",
      "Start with 1\n",
      "End with score 0.5683666821997714 0.5863853251892388\n",
      "Start with 10\n",
      "End with score 0.5765123692144579 0.5858037882492115\n",
      "Start with 50\n",
      "End with score 0.5760026992111635 0.5869571192669523\n",
      "Start with 100\n",
      "End with score 0.5759818800092784 0.5851557231785768\n",
      "Start with 500\n",
      "End with score 0.5731623568161067 0.5866484216750925\n",
      "Start with 1000\n",
      "End with score 0.5750175335501887 0.586038390912679\n"
     ]
    }
   ],
   "source": [
    "lin_score = []\n",
    "log_score = []\n",
    "\n",
    "for C in params[\"C\"]:\n",
    "    print(\"Start with\", C)\n",
    "    \n",
    "    lin_reg = MySGDClassifier(batch_generator=batch_gen, C=C, alpha=0.00005,\n",
    "                              max_epoch=20, model_type=\"lin_reg\")\n",
    "    lin_score.append(mean_validate(lin_reg, X_train, y_train, groups_train))\n",
    "    log_reg = MySGDClassifier(batch_generator=batch_gen, C=C, alpha=0.00005,\n",
    "                              max_epoch=20, model_type=\"log_reg\")\n",
    "    log_score.append(mean_validate(log_reg, X_train, y_train, groups_train))\n",
    "    \n",
    "    print(\"End with score\", lin_score[-1], log_score[-1])"
   ]
  },
  {
   "cell_type": "code",
   "execution_count": 34,
   "metadata": {},
   "outputs": [
    {
     "name": "stdout",
     "output_type": "stream",
     "text": [
      "For lin_reg best param 10 with score 0.5765123692144579\n",
      "For log_reg best param 50 with score 0.5869571192669523\n"
     ]
    },
    {
     "data": {
      "image/png": "[encoded data removed]",
      "text/plain": [
       "<Figure size 360x576 with 1 Axes>"
      ]
     },
     "metadata": {},
     "output_type": "display_data"
    }
   ],
   "source": [
    "fig = plt.figure(figsize=(5,8))\n",
    "ax = fig.add_subplot(111)\n",
    "\n",
    "ax.plot(params[\"C\"], lin_score)\n",
    "ax.plot(params[\"C\"], log_score)\n",
    "ax.set_xscale(\"log\")\n",
    "\n",
    "print(f\"For lin_reg best param {params['C'][np.argmax(lin_score)]} with score {np.max(lin_score)}\")\n",
    "print(f\"For log_reg best param {params['C'][np.argmax(log_score)]} with score {np.max(log_score)}\")\n",
    "best_lin[\"C\"] = params[\"C\"][np.argmax(lin_score)]\n",
    "best_log[\"C\"] = params[\"C\"][np.argmax(log_score)]"
   ]
  },
  {
   "cell_type": "code",
   "execution_count": 35,
   "metadata": {
    "scrolled": false
   },
   "outputs": [
    {
     "name": "stdout",
     "output_type": "stream",
     "text": [
      "Start with 1e-05\n"
     ]
    },
    {
     "name": "stderr",
     "output_type": "stream",
     "text": [
      "d:\\packprogs\\python379conda\\lib\\site-packages\\ipykernel_launcher.py:50: RuntimeWarning: divide by zero encountered in log\n",
      "d:\\packprogs\\python379conda\\lib\\site-packages\\ipykernel_launcher.py:50: RuntimeWarning: invalid value encountered in multiply\n"
     ]
    },
    {
     "name": "stdout",
     "output_type": "stream",
     "text": [
      "End with score 0.587081804357962 0.585928590549446\n",
      "Start with 5e-05\n",
      "End with score 0.5723260902709415 0.5869071810776291\n",
      "Start with 0.0001\n",
      "End with score 0.5357889595910317 0.5868242645646236\n",
      "Start with 0.0005\n",
      "End with score 0.5498747105785504 0.5866810928054209\n",
      "Start with 0.001\n",
      "End with score 0.5027178194135912 0.5866165277700377\n",
      "Start with 0.005\n",
      "End with score 0.49475208503877416 0.5681220033283795\n",
      "Start with 0.01\n",
      "End with score 0.5076074213315857 0.5220929039438291\n",
      "Start with 0.05\n",
      "End with score 0.5191734427487928 0.5033554398911786\n",
      "Start with 0.1\n",
      "End with score 0.5150969788789397 0.5157125821316517\n"
     ]
    }
   ],
   "source": [
    "lin_score = []\n",
    "log_score = []\n",
    "\n",
    "for alpha in params[\"alpha\"]:\n",
    "    print(\"Start with\", alpha)\n",
    "    \n",
    "    lin_reg = MySGDClassifier(batch_generator=batch_gen, C=best_lin[\"C\"], alpha=alpha,\n",
    "                              max_epoch=20, model_type=\"lin_reg\")\n",
    "    lin_score.append(mean_validate(lin_reg, X_train, y_train, groups_train))\n",
    "    log_reg = MySGDClassifier(batch_generator=batch_gen, C=best_log[\"C\"], alpha=alpha,\n",
    "                              max_epoch=20, model_type=\"log_reg\")\n",
    "    log_score.append(mean_validate(log_reg, X_train, y_train, groups_train))\n",
    "    \n",
    "    print(\"End with score\", lin_score[-1], log_score[-1])"
   ]
  },
  {
   "cell_type": "code",
   "execution_count": 36,
   "metadata": {},
   "outputs": [
    {
     "name": "stdout",
     "output_type": "stream",
     "text": [
      "For lin_reg best param 1e-05 with score 0.587081804357962\n",
      "For log_reg best param 5e-05 with score 0.5869071810776291\n"
     ]
    },
    {
     "data": {
      "image/png": "[encoded data removed]",
      "text/plain": [
       "<Figure size 360x576 with 1 Axes>"
      ]
     },
     "metadata": {},
     "output_type": "display_data"
    }
   ],
   "source": [
    "fig = plt.figure(figsize=(5,8))\n",
    "ax = fig.add_subplot(111)\n",
    "\n",
    "ax.plot(params[\"alpha\"], lin_score)\n",
    "ax.plot(params[\"alpha\"], log_score)\n",
    "ax.set_xscale(\"log\")\n",
    "\n",
    "print(f\"For lin_reg best param {params['alpha'][np.argmax(lin_score)]} with score {np.max(lin_score)}\")\n",
    "print(f\"For log_reg best param {params['alpha'][np.argmax(log_score)]} with score {np.max(log_score)}\")\n",
    "best_lin[\"alpha\"] = params[\"alpha\"][np.argmax(lin_score)]\n",
    "best_log[\"alpha\"] = params[\"alpha\"][np.argmax(log_score)]"
   ]
  },
  {
   "cell_type": "code",
   "execution_count": 37,
   "metadata": {},
   "outputs": [
    {
     "name": "stdout",
     "output_type": "stream",
     "text": [
      "Start with 5\n"
     ]
    },
    {
     "name": "stderr",
     "output_type": "stream",
     "text": [
      "d:\\packprogs\\python379conda\\lib\\site-packages\\ipykernel_launcher.py:50: RuntimeWarning: divide by zero encountered in log\n",
      "d:\\packprogs\\python379conda\\lib\\site-packages\\ipykernel_launcher.py:50: RuntimeWarning: invalid value encountered in multiply\n"
     ]
    },
    {
     "name": "stdout",
     "output_type": "stream",
     "text": [
      "End with score 0.5859448451797922 0.5856392165993987\n",
      "Start with 10\n",
      "End with score 0.5860701854602333 0.5865078072930754\n",
      "Start with 20\n",
      "End with score 0.5863129615381782 0.586649174844071\n",
      "Start with 50\n",
      "End with score 0.5842338469657642 0.5865318192311312\n",
      "Start with 100\n",
      "End with score 0.5753423812700876 0.5853997705510275\n"
     ]
    }
   ],
   "source": [
    "lin_score = []\n",
    "log_score = []\n",
    "\n",
    "for max_epoch in params[\"max_epoch\"]:\n",
    "    print(\"Start with\", max_epoch)\n",
    "    \n",
    "    lin_reg = MySGDClassifier(batch_generator=batch_gen, C=best_lin[\"C\"], alpha=best_lin[\"alpha\"],\n",
    "                              max_epoch=max_epoch, model_type=\"lin_reg\")\n",
    "    lin_score.append(mean_validate(lin_reg, X_train, y_train, groups_train))\n",
    "    log_reg = MySGDClassifier(batch_generator=batch_gen, C=best_log[\"C\"], alpha=best_log[\"alpha\"],\n",
    "                              max_epoch=max_epoch, model_type=\"log_reg\")\n",
    "    log_score.append(mean_validate(log_reg, X_train, y_train, groups_train))\n",
    "    \n",
    "    print(\"End with score\", lin_score[-1], log_score[-1])"
   ]
  },
  {
   "cell_type": "code",
   "execution_count": 38,
   "metadata": {},
   "outputs": [
    {
     "name": "stdout",
     "output_type": "stream",
     "text": [
      "For lin_reg best param 20 with score 0.5863129615381782\n",
      "For log_reg best param 20 with score 0.586649174844071\n"
     ]
    },
    {
     "data": {
      "image/png": "[encoded data removed]",
      "text/plain": [
       "<Figure size 360x576 with 1 Axes>"
      ]
     },
     "metadata": {},
     "output_type": "display_data"
    }
   ],
   "source": [
    "fig = plt.figure(figsize=(5,8))\n",
    "ax = fig.add_subplot(111)\n",
    "\n",
    "ax.plot(params[\"max_epoch\"], lin_score)\n",
    "ax.plot(params[\"max_epoch\"], log_score)\n",
    "\n",
    "print(f\"For lin_reg best param {params['max_epoch'][np.argmax(lin_score)]} with score {np.max(lin_score)}\")\n",
    "print(f\"For log_reg best param {params['max_epoch'][np.argmax(log_score)]} with score {np.max(log_score)}\")\n",
    "best_lin[\"max_epoch\"] = params[\"max_epoch\"][np.argmax(lin_score)]\n",
    "best_log[\"max_epoch\"] = params[\"max_epoch\"][np.argmax(log_score)]"
   ]
  },
  {
   "cell_type": "markdown",
   "metadata": {
    "collapsed": true
   },
   "source": [
    "Подберите порог линейной модели, по достижении которого, Вы будете относить объект к классу 1. Вспомните, какую метрику мы оптимизируем в соревновании.  Как тогда правильно подобрать порог?"
   ]
  },
  {
   "cell_type": "code",
   "execution_count": 39,
   "metadata": {},
   "outputs": [
    {
     "name": "stdout",
     "output_type": "stream",
     "text": [
      "Start with 0.2\n"
     ]
    },
    {
     "name": "stderr",
     "output_type": "stream",
     "text": [
      "d:\\packprogs\\python379conda\\lib\\site-packages\\ipykernel_launcher.py:50: RuntimeWarning: divide by zero encountered in log\n",
      "d:\\packprogs\\python379conda\\lib\\site-packages\\ipykernel_launcher.py:50: RuntimeWarning: invalid value encountered in multiply\n"
     ]
    },
    {
     "name": "stdout",
     "output_type": "stream",
     "text": [
      "End with score 0.5860694576666182 0.5764072375016809\n",
      "Start with 0.25\n",
      "End with score 0.5854100795777177 0.5822310401102971\n",
      "Start with 0.3\n",
      "End with score 0.5856053629129143 0.5817573642442426\n",
      "Start with 0.35\n",
      "End with score 0.5846942404492079 0.5846886711990207\n",
      "Start with 0.39999999999999997\n",
      "End with score 0.58487276038961 0.5851882783805175\n",
      "Start with 0.44999999999999996\n",
      "End with score 0.5855868200716188 0.5857768916969711\n",
      "Start with 0.49999999999999994\n",
      "End with score 0.5871886617722353 0.5852007226913157\n",
      "Start with 0.5499999999999999\n",
      "End with score 0.5849049627598192 0.587366636398\n",
      "Start with 0.5999999999999999\n",
      "End with score 0.5871971744779348 0.587712937312329\n",
      "Start with 0.6499999999999999\n",
      "End with score 0.5863768832937388 0.5864131188257802\n",
      "Start with 0.7\n",
      "End with score 0.5853546753779917 0.5886539944627327\n",
      "Start with 0.7499999999999998\n",
      "End with score 0.5860040175288741 0.5886373504106188\n",
      "Start with 0.7999999999999998\n",
      "End with score 0.5887186399366529 0.585818748733877\n",
      "Start with 0.8499999999999999\n",
      "End with score 0.5880898168170309 0.5824388816078371\n",
      "Start with 0.8999999999999999\n",
      "End with score 0.5865928824281768 0.5793021399189193\n",
      "Start with 0.9499999999999997\n",
      "End with score 0.586143736475558 0.563960892850223\n"
     ]
    }
   ],
   "source": [
    "bound_grid = np.arange(0.2, 1.0, 0.05)\n",
    "\n",
    "lin_score = []\n",
    "log_score = []\n",
    "\n",
    "for bound in bound_grid:\n",
    "    print(\"Start with\", bound)\n",
    "    \n",
    "    lin_reg = MySGDClassifier(batch_generator=batch_gen, C=best_lin[\"C\"], alpha=best_lin[\"alpha\"],\n",
    "                              max_epoch=best_lin[\"max_epoch\"], model_type=\"lin_reg\", bound=bound)\n",
    "    lin_score.append(mean_validate(lin_reg, X_train, y_train, groups_train))\n",
    "    log_reg = MySGDClassifier(batch_generator=batch_gen, C=best_log[\"C\"], alpha=best_log[\"alpha\"],\n",
    "                              max_epoch=best_log[\"max_epoch\"], model_type=\"log_reg\", bound=bound)\n",
    "    log_score.append(mean_validate(log_reg, X_train, y_train, groups_train))\n",
    "    \n",
    "    print(\"End with score\", lin_score[-1], log_score[-1])"
   ]
  },
  {
   "cell_type": "code",
   "execution_count": 40,
   "metadata": {},
   "outputs": [
    {
     "name": "stdout",
     "output_type": "stream",
     "text": [
      "For lin_reg best bound 0.7999999999999998 with score 0.5887186399366529\n",
      "For log_reg best bound 0.7 with score 0.5886539944627327\n"
     ]
    },
    {
     "data": {
      "image/png": "[encoded data removed]",
      "text/plain": [
       "<Figure size 360x576 with 1 Axes>"
      ]
     },
     "metadata": {},
     "output_type": "display_data"
    }
   ],
   "source": [
    "fig = plt.figure(figsize=(5,8))\n",
    "ax = fig.add_subplot(111)\n",
    "\n",
    "ax.plot(bound_grid, lin_score)\n",
    "ax.plot(bound_grid, log_score)\n",
    "\n",
    "print(f\"For lin_reg best bound {bound_grid[np.argmax(lin_score)]} with score {np.max(lin_score)}\")\n",
    "print(f\"For log_reg best bound {bound_grid[np.argmax(log_score)]} with score {np.max(log_score)}\")\n",
    "best_lin[\"bound\"] = bound_grid[np.argmax(lin_score)]\n",
    "best_log[\"bound\"] = bound_grid[np.argmax(log_score)]"
   ]
  },
  {
   "cell_type": "code",
   "execution_count": 41,
   "metadata": {},
   "outputs": [
    {
     "data": {
      "text/plain": [
       "({'C': 10, 'alpha': 1e-05, 'max_epoch': 20, 'bound': 0.7999999999999998},\n",
       " {'C': 50, 'alpha': 5e-05, 'max_epoch': 20, 'bound': 0.7})"
      ]
     },
     "execution_count": 41,
     "metadata": {},
     "output_type": "execute_result"
    }
   ],
   "source": [
    "best_lin, best_log # + model_type = log_reg"
   ]
  },
  {
   "cell_type": "code",
   "execution_count": 43,
   "metadata": {},
   "outputs": [],
   "source": [
    "best_lin_clf = MySGDClassifier(batch_generator=batch_gen, model_type=\"lin_reg\", **best_lin)\n",
    "\n",
    "best_log_clf = MySGDClassifier(batch_generator=batch_gen, model_type=\"log_reg\", **best_log)"
   ]
  },
  {
   "cell_type": "markdown",
   "metadata": {},
   "source": [
    "С лучшими параметрами на валидации сделайте предсказание на тестовом множестве, отправьте его на проверку на платформу kaggle. Убедитесь, что Вы смогли побить public score первого бейзлайна."
   ]
  },
  {
   "cell_type": "code",
   "execution_count": 44,
   "metadata": {},
   "outputs": [],
   "source": [
    "test_data = pd.read_csv('test_groups.csv')"
   ]
  },
  {
   "cell_type": "code",
   "execution_count": 45,
   "metadata": {},
   "outputs": [
    {
     "data": {
      "text/html": [
       "<div>\n",
       "<style scoped>\n",
       "    .dataframe tbody tr th:only-of-type {\n",
       "        vertical-align: middle;\n",
       "    }\n",
       "\n",
       "    .dataframe tbody tr th {\n",
       "        vertical-align: top;\n",
       "    }\n",
       "\n",
       "    .dataframe thead th {\n",
       "        text-align: right;\n",
       "    }\n",
       "</style>\n",
       "<table border=\"1\" class=\"dataframe\">\n",
       "  <thead>\n",
       "    <tr style=\"text-align: right;\">\n",
       "      <th></th>\n",
       "      <th>pair_id</th>\n",
       "      <th>group_id</th>\n",
       "      <th>doc_id</th>\n",
       "    </tr>\n",
       "  </thead>\n",
       "  <tbody>\n",
       "    <tr>\n",
       "      <th>0</th>\n",
       "      <td>11691</td>\n",
       "      <td>130</td>\n",
       "      <td>6710</td>\n",
       "    </tr>\n",
       "    <tr>\n",
       "      <th>1</th>\n",
       "      <td>11692</td>\n",
       "      <td>130</td>\n",
       "      <td>4030</td>\n",
       "    </tr>\n",
       "    <tr>\n",
       "      <th>2</th>\n",
       "      <td>11693</td>\n",
       "      <td>130</td>\n",
       "      <td>5561</td>\n",
       "    </tr>\n",
       "    <tr>\n",
       "      <th>3</th>\n",
       "      <td>11694</td>\n",
       "      <td>130</td>\n",
       "      <td>4055</td>\n",
       "    </tr>\n",
       "    <tr>\n",
       "      <th>4</th>\n",
       "      <td>11695</td>\n",
       "      <td>130</td>\n",
       "      <td>4247</td>\n",
       "    </tr>\n",
       "  </tbody>\n",
       "</table>\n",
       "</div>"
      ],
      "text/plain": [
       "   pair_id  group_id  doc_id\n",
       "0    11691       130    6710\n",
       "1    11692       130    4030\n",
       "2    11693       130    5561\n",
       "3    11694       130    4055\n",
       "4    11695       130    4247"
      ]
     },
     "execution_count": 45,
     "metadata": {},
     "output_type": "execute_result"
    }
   ],
   "source": [
    "test_data.head()"
   ]
  },
  {
   "cell_type": "code",
   "execution_count": 46,
   "metadata": {},
   "outputs": [],
   "source": [
    "testgroups_titledata = {}\n",
    "for i in range(len(test_data)):\n",
    "    new_doc = test_data.iloc[i]\n",
    "    doc_group = new_doc['group_id']\n",
    "    doc_id = new_doc['doc_id']\n",
    "    title = doc_to_title[doc_id]\n",
    "    if doc_group not in testgroups_titledata:\n",
    "        testgroups_titledata[doc_group] = []\n",
    "    testgroups_titledata[doc_group].append((doc_id, title))"
   ]
  },
  {
   "cell_type": "code",
   "execution_count": 47,
   "metadata": {},
   "outputs": [
    {
     "name": "stdout",
     "output_type": "stream",
     "text": [
      "(16627, 15) (16627,)\n"
     ]
    }
   ],
   "source": [
    "X_test = []\n",
    "groups_test = []\n",
    "for new_group in testgroups_titledata:\n",
    "    docs = testgroups_titledata[new_group]\n",
    "    for k, (doc_id, title) in enumerate(docs):\n",
    "        groups_test.append(new_group)\n",
    "        all_dist = []\n",
    "        words = set(title.strip().split())\n",
    "        for j in range(0, len(docs)):\n",
    "            if k == j:\n",
    "                continue\n",
    "            doc_id_j, title_j = docs[j]\n",
    "            words_j = set(title_j.strip().split())\n",
    "            all_dist.append(len(words.intersection(words_j)))\n",
    "        X_test.append(sorted(all_dist, reverse=True)[0:15])\n",
    "X_test = np.array(X_test)\n",
    "groups_test = np.array(groups_test)\n",
    "print (X_test.shape, groups_test.shape)"
   ]
  },
  {
   "cell_type": "code",
   "execution_count": 48,
   "metadata": {},
   "outputs": [],
   "source": [
    "X_test = scaler.transform(X_test)"
   ]
  },
  {
   "cell_type": "code",
   "execution_count": 51,
   "metadata": {},
   "outputs": [
    {
     "name": "stderr",
     "output_type": "stream",
     "text": [
      "d:\\packprogs\\python379conda\\lib\\site-packages\\ipykernel_launcher.py:50: RuntimeWarning: divide by zero encountered in log\n",
      "d:\\packprogs\\python379conda\\lib\\site-packages\\ipykernel_launcher.py:50: RuntimeWarning: invalid value encountered in multiply\n"
     ]
    },
    {
     "data": {
      "text/plain": [
       "(16627,)"
      ]
     },
     "execution_count": 51,
     "metadata": {},
     "output_type": "execute_result"
    }
   ],
   "source": [
    "best_log_clf.fit(X_train, y_train)\n",
    "y_pred = best_log_clf.predict(X_test)\n",
    "y_pred.shape"
   ]
  },
  {
   "cell_type": "code",
   "execution_count": 52,
   "metadata": {},
   "outputs": [],
   "source": [
    "df = pd.DataFrame({'pair_id': test_data['pair_id'], 'target': y_pred.astype(np.int32)})\n",
    "df = df.set_index(['pair_id'])\n",
    "df.to_csv('log_submission.csv')"
   ]
  },
  {
   "cell_type": "markdown",
   "metadata": {
    "collapsed": true
   },
   "source": [
    "**При сдаче домашки Вам необходимо кроме ссылки на ноутбук показать Ваш ник на kaggle, под которым Вы залили решение, которое побило Handmade baseline.**"
   ]
  },
  {
   "cell_type": "code",
   "execution_count": null,
   "metadata": {},
   "outputs": [],
   "source": [
    "Anton Kolotov"
   ]
  },
  {
   "cell_type": "markdown",
   "metadata": {},
   "source": [
    "# Фидбек (бесценно)"
   ]
  },
  {
   "cell_type": "markdown",
   "metadata": {},
   "source": [
    "* Какие аспекты обучения линейных моделей Вам показались непонятными? Какое место стоит дополнительно объяснить?"
   ]
  },
  {
   "cell_type": "markdown",
   "metadata": {},
   "source": [
    "***Ваше ответ здесь***\n",
    "\n",
    "Свободный вес `w0` и его роль в жизни модели."
   ]
  },
  {
   "cell_type": "markdown",
   "metadata": {},
   "source": [
    "* Здесь Вы можете оставить отзыв о этой домашней работе или о всем курсе.   "
   ]
  },
  {
   "cell_type": "markdown",
   "metadata": {},
   "source": [
    "*** ВАШ ОТЗЫВ ЗДЕСЬ***"
   ]
  },
  {
   "cell_type": "code",
   "execution_count": null,
   "metadata": {},
   "outputs": [],
   "source": []
  },
  {
   "cell_type": "code",
   "execution_count": null,
   "metadata": {},
   "outputs": [],
   "source": []
  }
 ],
 "metadata": {
  "anaconda-cloud": {},
  "kernelspec": {
   "display_name": "Python 3",
   "language": "python",
   "name": "python3"
  },
  "language_info": {
   "codemirror_mode": {
    "name": "ipython",
    "version": 3
   },
   "file_extension": ".py",
   "mimetype": "text/x-python",
   "name": "python",
   "nbconvert_exporter": "python",
   "pygments_lexer": "ipython3",
   "version": "3.7.9"
  },
  "nav_menu": {},
  "toc": {
   "colors": {
    "hover_highlight": "#DAA520",
    "navigate_num": "#000000",
    "navigate_text": "#333333",
    "running_highlight": "#FF0000",
    "selected_highlight": "#FFD700",
    "sidebar_border": "#EEEEEE",
    "wrapper_background": "#FFFFFF"
   },
   "moveMenuLeft": true,
   "nav_menu": {
    "height": "402px",
    "width": "253px"
   },
   "navigate_menu": true,
   "number_sections": false,
   "sideBar": true,
   "threshold": 4,
   "toc_cell": false,
   "toc_section_display": "block",
   "toc_window_display": true,
   "widenNotebook": false
  }
 },
 "nbformat": 4,
 "nbformat_minor": 2
}
