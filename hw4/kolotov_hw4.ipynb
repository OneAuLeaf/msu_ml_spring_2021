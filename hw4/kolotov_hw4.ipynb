{
 "cells": [
  {
   "cell_type": "markdown",
   "metadata": {},
   "source": [
    "### Алгоритмы интеллектуальной обработки больших объемов данных\n",
    "## Домашнее задание №4 - Градиентный бустинг\n"
   ]
  },
  {
   "cell_type": "markdown",
   "metadata": {},
   "source": [
    "**Общая информация**\n",
    "\n",
    "**Срок сдачи:** 10 мая 2021, 08:30   \n",
    "**Штраф за опоздание:** -2 балла после 08:30 10 мая, -4 балла после 08:30 17 мая, -6 баллов после 08:30 24 мая, -8 баллов после 08:30 31 мая.\n",
    "\n",
    "При отправлении ДЗ указывайте фамилию в названии файла Присылать ДЗ необходимо в виде ссылки на свой github репозиторий на почту ml1.sphere@mail.ru с указанием темы в следующем формате:\n",
    "[ML0221, Задание 4] Фамилия Имя. \n",
    "\n",
    "\n",
    "Используйте данный Ipython Notebook при оформлении домашнего задания."
   ]
  },
  {
   "cell_type": "markdown",
   "metadata": {},
   "source": [
    "##  Считаем производные для функций потерь (1 балл)"
   ]
  },
  {
   "cell_type": "markdown",
   "metadata": {},
   "source": [
    "Мы будем реализовать градиентный бустинг для 3 функций потерь:\n",
    "\n",
    "1) MSE  $L(a(x_i), y_i) = (y_i - a(x_i)) ^ 2$\n",
    "\n",
    "2) Экспоненциальная  $L(a(x_i), y_i) = exp( -a(x_i) y_i), y_i \\in \\{-1, 1\\}$\n",
    "\n",
    "3) Логистическая  $L(a(x_i), y_i) = \\log (1 + exp( -a(x_i) y_i)), y_i \\in \\{-1, 1\\}$\n",
    "\n",
    "где $a(x_i)$ предсказание бустинга на итом объекте. \n",
    "\n",
    "Для каждой функции потерь напишите таргет, на который будет настраиваться каждое дерево в бустинге. "
   ]
  },
  {
   "cell_type": "markdown",
   "metadata": {},
   "source": [
    "***Ваше решение тут***\n",
    "1) $$-\\frac{\\partial L(F(x_i), y_i)}{\\partial F} = 2(y_i - F(x_i)$$ \\\n",
    "2) $$-\\frac{\\partial L(F(x_i), y_i)}{\\partial F} = y_i\\exp{(-F(x_i)y_i)}$$ \\\n",
    "3) $$-\\frac{\\partial L(F(x_i), y_i)}{\\partial F} = \\frac{y_i}{1 + \\exp{(F(x_i)y_i)}}$$"
   ]
  },
  {
   "cell_type": "markdown",
   "metadata": {},
   "source": [
    "##  Реализуем градиентный бустинг (3 балла)"
   ]
  },
  {
   "cell_type": "markdown",
   "metadata": {},
   "source": [
    "Реализуйте класс градиентного бустинга для классификации. Ваша реализация бустинга должна работать по точности не более чем на 5 процентов хуже чем GradientBoostingClassifier из sklearn. \n"
   ]
  },
  {
   "cell_type": "markdown",
   "metadata": {},
   "source": [
    "Детали реализации:\n",
    "\n",
    "-- должно поддерживаться 3 функции потерь\n",
    "\n",
    "-- сами базовые алгоритмы(деревья, линейные модели и тп) реализовать не надо, просто возьмите готовые из sklearn\n",
    "\n",
    "-- в качестве функции потерь для построения одного дерева используйте MSE\n",
    "\n",
    "-- шаг в бустинге можно не подбирать, можно брать константный\n",
    "\n",
    "-- можно брать разные модели в качестве инициализации бустинга\n",
    "\n",
    "-- должны поддерживаться следующие параметры:\n",
    "\n",
    "а) число итераций\n",
    "б) размер шага\n",
    "в) процент случайных фичей при построении одного дерева\n",
    "д) процент случайных объектов при построении одного дерева\n",
    "е) параметры базового алгоритма (передавайте через **kwargs)"
   ]
  },
  {
   "cell_type": "code",
   "execution_count": 1,
   "metadata": {},
   "outputs": [],
   "source": [
    "import numpy as np\n",
    "\n",
    "from sklearn.datasets import load_wine\n",
    "from sklearn.ensemble import GradientBoostingClassifier\n",
    "from sklearn.metrics import accuracy_score\n",
    "from sklearn.model_selection import train_test_split\n",
    "from sklearn.tree import DecisionTreeRegressor"
   ]
  },
  {
   "cell_type": "code",
   "execution_count": 2,
   "metadata": {},
   "outputs": [],
   "source": [
    "class MyGradientBoostingClassifier:\n",
    "\n",
    "    def __init__(self, loss=\"mse\", learning_rate=0.1,\n",
    "                 n_estimators=100, colsample=1.0, subsample=1.0, *args, **kwargs):\n",
    "        \"\"\"\n",
    "        loss -- один из 3 лоссов:\n",
    "        learning_rate -- шаг бустинга\n",
    "        n_estimators -- число итераций\n",
    "        colsample -- процент рандомных признаков при обучнеии одного алгоритма\n",
    "        colsample -- процент рандомных объектов при обучнеии одного алгоритма\n",
    "        args, kwargs -- параметры  базовых моделей\n",
    "        \"\"\"\n",
    "        self.loss = loss\n",
    "        self.learning_rate = learning_rate\n",
    "        self.n_estimators = n_estimators\n",
    "        self.colsample = colsample\n",
    "        self.subsample = subsample\n",
    "        self.args = args\n",
    "        self.kwargs = kwargs\n",
    "        \n",
    "        self.base_model = None\n",
    "        self.init_model = None\n",
    "    \n",
    "    def fit(self, X, y, base_model=DecisionTreeRegressor, init_model=None):\n",
    "        \"\"\"\n",
    "        X -- объекты для обучения:\n",
    "        y -- таргеты для обучения\n",
    "        base_model -- класс базовых моделей, например sklearn.tree.DecisionTreeRegressor\n",
    "        init_model -- класс для первой модели, если None то берем константу (только для посл задания)\n",
    "        \"\"\"\n",
    "        self.n_classes = np.unique(y).shape[0]\n",
    "        if self.n_classes == 2:\n",
    "            y = (y - 0.5) * 2\n",
    "\n",
    "        self.init_model = init_model if init_model is None else init_model()\n",
    "        self.base_model = base_model\n",
    "        if init_model is not None:\n",
    "            self.init_model.fit(X, y)\n",
    "            F = self.init_model.predict(X)\n",
    "        else:\n",
    "            F = np.zeros(X.shape[0])\n",
    "        \n",
    "        self.ensemble = []\n",
    "        \n",
    "        colsample_num = round((self.colsample * X.shape[1]))\n",
    "        subsample_num = round((self.subsample * X.shape[0]))\n",
    "        for j in range(self.n_estimators):\n",
    "            colsample_idx = np.random.choice(np.arange(X.shape[1]), size=colsample_num, replace=False)\n",
    "            subsample_idx = np.random.choice(np.arange(X.shape[0]), size=subsample_num, replace=False)\n",
    "            \n",
    "            X_subsample = X[np.ix_(subsample_idx, colsample_idx)]\n",
    "            y_subsample = y[subsample_idx]\n",
    "            \n",
    "            if self.loss == \"mse\":\n",
    "                y_subsample = 2 * (y_subsample - F[subsample_idx])\n",
    "            elif self.loss == \"exponential\":\n",
    "                y_subsample = y_subsample * np.exp(-F[subsample_idx] * y_subsample)\n",
    "            elif self.loss == \"deviance\":\n",
    "                y_subsample = y_subsample / (1 + np.exp(F[subsample_idx] * y_subsample))\n",
    "            else:\n",
    "                raise NotImplementedError(self.loss)\n",
    "\n",
    "            model = self.base_model(*self.args, **self.kwargs)\n",
    "            model.fit(X_subsample, y_subsample)\n",
    "            F[subsample_idx] += self.learning_rate * model.predict(X_subsample)\n",
    "            self.ensemble.append((model, colsample_idx))\n",
    "        \n",
    "    def predict(self, X):\n",
    "        assert(self.base_model is not None and \"predict called before fit\")\n",
    "        \n",
    "        if self.init_model is not None:\n",
    "            intercept = self.init_model.predict(X)\n",
    "        else:\n",
    "            intercept = np.zeros(X.shape[0])\n",
    "\n",
    "        f = np.zeros(X.shape[0])\n",
    "        for model, colsample in self.ensemble:\n",
    "            f += model.predict(X[:, colsample])\n",
    "        F = np.round(intercept + self.learning_rate * f)\n",
    "        if self.n_classes == 2:\n",
    "            F[F >= 0] = 1\n",
    "            F[F < 0] = 0\n",
    "        return F"
   ]
  },
  {
   "cell_type": "code",
   "execution_count": 3,
   "metadata": {},
   "outputs": [],
   "source": [
    "my_clf = MyGradientBoostingClassifier()\n",
    "clf = GradientBoostingClassifier()"
   ]
  },
  {
   "cell_type": "code",
   "execution_count": 4,
   "metadata": {},
   "outputs": [],
   "source": [
    "wine = load_wine()\n",
    "X_train, X_test, y_train, y_test = train_test_split(wine.data, wine.target, test_size=0.1, stratify=wine.target)"
   ]
  },
  {
   "cell_type": "code",
   "execution_count": 5,
   "metadata": {},
   "outputs": [
    {
     "name": "stdout",
     "output_type": "stream",
     "text": [
      "0.8888888888888888\n",
      "0.8888888888888888\n"
     ]
    }
   ],
   "source": [
    "my_clf.fit(X_train, y_train)\n",
    "clf.fit(X_train, y_train)\n",
    "print(accuracy_score(y_pred=clf.predict(X_test), y_true=y_test))\n",
    "print(accuracy_score(y_pred=my_clf.predict(X_test), y_true=y_test))"
   ]
  },
  {
   "cell_type": "markdown",
   "metadata": {},
   "source": [
    "## Подбираем параметры (2 балла)\n",
    "\n",
    "Давайте попробуем применить Ваш бустинг для предсказаний цены домов в Калифорнии. Чтобы можно было попробовтаь разные функции потерь, переведем по порогу таргет в 2 класса: дорогие и дешевые дома."
   ]
  },
  {
   "cell_type": "markdown",
   "metadata": {},
   "source": [
    "В задании нужно\n",
    "\n",
    "1) Построить график точности в зависимости от числа итераций на валидации.\n",
    "\n",
    "2) Подобрать оптимальные параметры Вашего бустинга на валидации. \n"
   ]
  },
  {
   "cell_type": "code",
   "execution_count": 7,
   "metadata": {},
   "outputs": [],
   "source": [
    "from sklearn.model_selection import StratifiedKFold\n",
    "from sklearn.preprocessing import StandardScaler\n",
    "import matplotlib.pyplot as plt\n",
    "\n",
    "plt.style.use(\"ggplot\")"
   ]
  },
  {
   "cell_type": "code",
   "execution_count": 8,
   "metadata": {},
   "outputs": [],
   "source": [
    "from sklearn.datasets import fetch_california_housing\n",
    "X, y = fetch_california_housing(return_X_y=True)"
   ]
  },
  {
   "cell_type": "code",
   "execution_count": 9,
   "metadata": {
    "scrolled": true
   },
   "outputs": [
    {
     "name": "stdout",
     "output_type": "stream",
     "text": [
      "(20640, 8) (20640,)\n"
     ]
    }
   ],
   "source": [
    "# Превращаем регрессию в классификацию\n",
    "y = (y > 2.0).astype(int)\n",
    "print(X.shape, y.shape)"
   ]
  },
  {
   "cell_type": "code",
   "execution_count": 10,
   "metadata": {},
   "outputs": [],
   "source": [
    "scaler = StandardScaler()\n",
    "X = scaler.fit_transform(X)"
   ]
  },
  {
   "cell_type": "code",
   "execution_count": 12,
   "metadata": {},
   "outputs": [
    {
     "data": {
      "text/plain": [
       "((20640, 8), (20640,))"
      ]
     },
     "execution_count": 12,
     "metadata": {},
     "output_type": "execute_result"
    }
   ],
   "source": [
    "X.shape, y.shape"
   ]
  },
  {
   "cell_type": "markdown",
   "metadata": {},
   "source": [
    "Организуем валидацию по 3 фолдам."
   ]
  },
  {
   "cell_type": "code",
   "execution_count": 13,
   "metadata": {},
   "outputs": [],
   "source": [
    "n_splits = 3\n",
    "seed = 1000 - 7\n",
    "np.random.seed(seed)\n",
    "kf = StratifiedKFold(n_splits, shuffle=True, random_state=seed)"
   ]
  },
  {
   "cell_type": "code",
   "execution_count": 14,
   "metadata": {},
   "outputs": [],
   "source": [
    "def validate(model, X, y, *args, **kwargs):\n",
    "    score = np.zeros(n_splits)\n",
    "    \n",
    "    for j, (idxs_train, idxs_val) in enumerate(kf.split(X, y)):\n",
    "        X_train, y_train = X[idxs_train], y[idxs_train]\n",
    "        X_val, y_val = X[idxs_val], y[idxs_val]\n",
    "        \n",
    "        model.fit(X_train, y_train, *args, **kwargs)\n",
    "        y_pred = model.predict(X_val)\n",
    "\n",
    "        score[j] = accuracy_score(y_val, y_pred)\n",
    "\n",
    "    return score.mean()"
   ]
  },
  {
   "cell_type": "code",
   "execution_count": 15,
   "metadata": {},
   "outputs": [],
   "source": [
    "cls = MyGradientBoostingClassifier"
   ]
  },
  {
   "cell_type": "markdown",
   "metadata": {},
   "source": [
    "Для начала построим график зависимости accuracy от числа итераций на валидации для разных функций потерь."
   ]
  },
  {
   "cell_type": "code",
   "execution_count": 16,
   "metadata": {},
   "outputs": [
    {
     "name": "stdout",
     "output_type": "stream",
     "text": [
      "For loss mse best n_estimators 140 with score 0.8306686046511628\n",
      "For loss exponential best n_estimators 120 with score 0.8345930232558141\n",
      "For loss deviance best n_estimators 140 with score 0.8340116279069768\n"
     ]
    }
   ],
   "source": [
    "n_estimators_grid = np.arange(50, 150, 10)\n",
    "\n",
    "score = {\n",
    "    \"mse\": [],\n",
    "    \"exponential\": [],\n",
    "    \"deviance\": [],\n",
    "}\n",
    "\n",
    "for key in score:\n",
    "    for n_estimators in n_estimators_grid:\n",
    "        model = cls(loss=key, n_estimators=n_estimators)\n",
    "        score[key].append(validate(model, X, y))\n",
    "        \n",
    "for key in score:\n",
    "    print(f\"For loss {key} best n_estimators {n_estimators_grid[np.argmax(score[key])]} with score {np.max(score[key])}\")"
   ]
  },
  {
   "cell_type": "code",
   "execution_count": 17,
   "metadata": {},
   "outputs": [
    {
     "data": {
      "image/png": "[encoded data removed]",
      "text/plain": [
       "<Figure size 504x504 with 1 Axes>"
      ]
     },
     "metadata": {},
     "output_type": "display_data"
    }
   ],
   "source": [
    "fig = plt.figure(figsize=(7,7))\n",
    "ax = fig.add_subplot(111)\n",
    "\n",
    "for key in score:\n",
    "    ax.plot(n_estimators_grid, score[key], alpha=0.7, label=key)\n",
    "\n",
    "ax.legend()\n",
    "ax.set_title(\"Зависимость accuracy от числа итераций\")\n",
    "_ = _"
   ]
  },
  {
   "cell_type": "markdown",
   "metadata": {},
   "source": [
    "Оптимизируем параметры"
   ]
  },
  {
   "cell_type": "code",
   "execution_count": 18,
   "metadata": {},
   "outputs": [],
   "source": [
    "grid_params = {\n",
    "    \"learning_rate\": np.linspace(0.0001, 1.0, num=20),\n",
    "    \"subsample\": np.linspace(0.5, 1.0, num=20),\n",
    "    \"colsample\": np.linspace(0.3, 1.0, num=20),\n",
    "}\n",
    "\n",
    "params = {\n",
    "    \"mse\": {\n",
    "        \"n_estimators\": 140,\n",
    "        \"learning_rate\": 0.5,\n",
    "        \"subsample\": 0.85,\n",
    "        \"colsample\": 1.,\n",
    "    },\n",
    "    \"exponential\": {\n",
    "        \"n_estimators\": 120,\n",
    "        \"learning_rate\": 0.5,\n",
    "        \"subsample\": 0.85,\n",
    "        \"colsample\": 1.,\n",
    "    },\n",
    "    \"deviance\": {\n",
    "        \"n_estimators\": 140,\n",
    "        \"learning_rate\": 0.5,\n",
    "        \"subsample\": 0.85,\n",
    "        \"colsample\": 1.,\n",
    "    },\n",
    "}"
   ]
  },
  {
   "cell_type": "code",
   "execution_count": 19,
   "metadata": {},
   "outputs": [],
   "source": [
    "score = {key: [] for key in params}\n",
    "for key in params:\n",
    "    for learning_rate in grid_params['learning_rate']:\n",
    "        params[key]['learning_rate'] = learning_rate\n",
    "        model = cls(loss=key, **params[key])\n",
    "        score[key].append(validate(model, X, y))\n",
    "    params[key]['learning_rate'] = grid_params['learning_rate'][np.argmax(score[key])]"
   ]
  },
  {
   "cell_type": "code",
   "execution_count": 20,
   "metadata": {},
   "outputs": [],
   "source": [
    "score = {key: [] for key in params}\n",
    "for key in params:\n",
    "    for subsample in grid_params['subsample']:\n",
    "        params[key]['subsample'] = subsample\n",
    "        model = cls(loss=key, **params[key])\n",
    "        score[key].append(validate(model, X, y))\n",
    "    params[key]['subsample'] = grid_params['subsample'][np.argmax(score[key])]"
   ]
  },
  {
   "cell_type": "code",
   "execution_count": 21,
   "metadata": {},
   "outputs": [],
   "source": [
    "score = {key: [] for key in params}\n",
    "for key in params:\n",
    "    for colsample in grid_params['colsample']:\n",
    "        params[key]['colsample'] = colsample\n",
    "        model = cls(loss=key, **params[key])\n",
    "        score[key].append(validate(model, X, y))\n",
    "    params[key]['colsample'] = grid_params['colsample'][np.argmax(score[key])]"
   ]
  },
  {
   "cell_type": "code",
   "execution_count": 22,
   "metadata": {},
   "outputs": [
    {
     "name": "stdout",
     "output_type": "stream",
     "text": [
      "{'n_estimators': 140, 'learning_rate': 0.05272631578947369, 'subsample': 0.5263157894736842, 'colsample': 0.7421052631578946} mse\n",
      "{'n_estimators': 120, 'learning_rate': 0.3684842105263158, 'subsample': 0.5, 'colsample': 0.7421052631578946} exponential\n",
      "{'n_estimators': 140, 'learning_rate': 0.21060526315789474, 'subsample': 0.5526315789473684, 'colsample': 0.5947368421052631} deviance\n"
     ]
    }
   ],
   "source": [
    "scores = []\n",
    "for key in params:\n",
    "    print(params[key], key)\n",
    "    model = cls(loss=key, **params[key])\n",
    "    scores.append(validate(model, X, y))\n",
    "\n",
    "best_loss = list(params.keys())[np.argmax(scores)]\n",
    "best_params = params[best_loss]\n",
    "best_score = np.max(scores)"
   ]
  },
  {
   "cell_type": "code",
   "execution_count": 23,
   "metadata": {},
   "outputs": [
    {
     "data": {
      "text/plain": [
       "('deviance',\n",
       " 0.8945251937984495,\n",
       " {'n_estimators': 140,\n",
       "  'learning_rate': 0.21060526315789474,\n",
       "  'subsample': 0.5526315789473684,\n",
       "  'colsample': 0.5947368421052631})"
      ]
     },
     "execution_count": 23,
     "metadata": {},
     "output_type": "execute_result"
    }
   ],
   "source": [
    "best_loss, best_score, best_params"
   ]
  },
  {
   "cell_type": "markdown",
   "metadata": {},
   "source": [
    "## BooBag BagBoo (1 балл)\n",
    "\n"
   ]
  },
  {
   "cell_type": "markdown",
   "metadata": {},
   "source": [
    "Попробуем объединить бустинг и бэгинг. Давайте\n",
    "\n",
    "1) в качестве базовой модели брать не дерево решений, а случайный лес (из sklearn)\n",
    "\n",
    "2) обучать N бустингов на бустрапированной выборке, а затем предикт усреднять"
   ]
  },
  {
   "cell_type": "markdown",
   "metadata": {},
   "source": [
    "Попробуйте обе этих стратегии на данных из прошлого задания. Получилось ли улучшить качество? Почему?"
   ]
  },
  {
   "cell_type": "code",
   "execution_count": 24,
   "metadata": {},
   "outputs": [],
   "source": [
    "from sklearn.ensemble import RandomForestRegressor"
   ]
  },
  {
   "cell_type": "code",
   "execution_count": 25,
   "metadata": {},
   "outputs": [
    {
     "name": "stdout",
     "output_type": "stream",
     "text": [
      "BooBag accuracy: 0.8922480620155039\n"
     ]
    }
   ],
   "source": [
    "boobag = MyGradientBoostingClassifier(loss=best_loss, **best_params)\n",
    "score = validate(boobag, X, y, base_model=RandomForestRegressor)\n",
    "print(\"BooBag accuracy:\", score)"
   ]
  },
  {
   "cell_type": "code",
   "execution_count": 26,
   "metadata": {},
   "outputs": [],
   "source": [
    "class BagBoo:\n",
    "    def __init__(self, n, boosting, **kwargs):\n",
    "        self.n = n\n",
    "        self.boosting = boosting\n",
    "        self.kwargs = kwargs\n",
    "\n",
    "    def fit(self, X, y):\n",
    "        self.models = []\n",
    "        for _ in range(self.n):\n",
    "            bag_idx = np.random.choice(X.shape[0], size=X.shape[0], replace=False)\n",
    "            model = self.boosting(**kwargs)\n",
    "            model.fit(X[bag_idx], y[bag_idx])\n",
    "            self.models.append(model)\n",
    "\n",
    "    def predict(self, X):\n",
    "        y_pred = np.zeros((n, X.shape[0]))\n",
    "        for j, model in enumerate(self.models):\n",
    "            y_pred_partial = model.predict(X)\n",
    "            y_pred[j] = y_pred_partial\n",
    "        return np.apply_along_axis(self.__voting, 0, y_pred)\n",
    "    \n",
    "    def __voting(self, y):\n",
    "        values, counts = np.unique(y, return_counts=True)\n",
    "        return values[np.argmax(counts)]"
   ]
  },
  {
   "cell_type": "code",
   "execution_count": 27,
   "metadata": {},
   "outputs": [
    {
     "name": "stdout",
     "output_type": "stream",
     "text": [
      "BagBoo accuracy: 0.8941860465116279\n"
     ]
    }
   ],
   "source": [
    "n = 8\n",
    "boosting = MyGradientBoostingClassifier\n",
    "kwargs = dict(loss=best_loss, **best_params)\n",
    "bagboo = BagBoo(n, boosting, **kwargs)\n",
    "score = validate(bagboo, X, y)\n",
    "print(\"BagBoo accuracy:\", score)"
   ]
  },
  {
   "cell_type": "markdown",
   "metadata": {},
   "source": [
    "***Вывод***: \n",
    "\n",
    "Качество улучшить не получилось. Это может быть связано с тем, что в случае стоит дополнительно подбирать параметры базовых моделей.\n",
    "\n",
    "В целом, кажется, что при подборе параметров это иногда может привести к хорошему результату, тк использование bagging'а может уменьшить общий разброс (variance) модели, не ухудшая смещение (bias) (которое будет хорошо уменьшено бустингом)."
   ]
  },
  {
   "cell_type": "markdown",
   "metadata": {
    "collapsed": true
   },
   "source": [
    "## Умная инициализация (1 балл)\n",
    "\n",
    "Попробуйте брать в качестве инициализации бустинга не константу, а какой-то алгоритм и уже от его предикта стартовать итерации бустинга. Попробуйте разные модели из sklearn: линейные модели, рандом форест, svm..\n",
    "\n",
    "Получилось ли улучшить качество? Почему?\n",
    "\n"
   ]
  },
  {
   "cell_type": "code",
   "execution_count": 28,
   "metadata": {},
   "outputs": [],
   "source": [
    "from sklearn.linear_model import LinearRegression\n",
    "from sklearn.svm import SVR"
   ]
  },
  {
   "cell_type": "code",
   "execution_count": 29,
   "metadata": {},
   "outputs": [
    {
     "name": "stdout",
     "output_type": "stream",
     "text": [
      "With initial linear model accuracy: 0.8961240310077518\n"
     ]
    }
   ],
   "source": [
    "init_linear = MyGradientBoostingClassifier(loss=best_loss, **best_params)\n",
    "score = validate(init_linear, X, y, init_model=LinearRegression)\n",
    "print(\"With initial linear model accuracy:\", score)"
   ]
  },
  {
   "cell_type": "code",
   "execution_count": 30,
   "metadata": {},
   "outputs": [
    {
     "name": "stdout",
     "output_type": "stream",
     "text": [
      "With initial SVM model accuracy: 0.8925387596899225\n"
     ]
    }
   ],
   "source": [
    "init_svm = MyGradientBoostingClassifier(loss=best_loss, **best_params)\n",
    "score = validate(init_svm, X, y, init_model=SVR)\n",
    "print(\"With initial SVM model accuracy:\", score)"
   ]
  },
  {
   "cell_type": "code",
   "execution_count": 31,
   "metadata": {},
   "outputs": [
    {
     "name": "stdout",
     "output_type": "stream",
     "text": [
      "With initial random forest model accuracy: 0.8900678294573643\n"
     ]
    }
   ],
   "source": [
    "init_forest = MyGradientBoostingClassifier(loss=best_loss, **best_params)\n",
    "score = validate(init_forest, X, y, init_model=RandomForestRegressor)\n",
    "print(\"With initial random forest model accuracy:\", score)"
   ]
  },
  {
   "cell_type": "markdown",
   "metadata": {},
   "source": [
    "***Вывод***: \n",
    "\n",
    "Качество улучшилось в случае линейной модели, и ухудшилось в случае остальных. Это опять же может быть связано с тем, что стоит дополнительно подбирать параметры начальной модели. \n",
    "\n",
    "В целом кажется, что константа так хороша в качестве начальной модели, потому что она хоть и даёт высокое начальное смещение (bias) но имеет нулевой разброс (variance). А бустинг успешно уменьшает смещение и всё ок. А использование сложных (да к тому же и без подобранных параметров) моделей, может вносить слишком большой разброс, с которым бустинг почти ничего не сделает. Линейная модель имеет bias гарантированно меньше, чем константа (т.к. константа частный случай линейной модели), но при этом, если повезет, не слишком увеличивает разброс (может быть по этому результат и улучшился)."
   ]
  },
  {
   "cell_type": "markdown",
   "metadata": {},
   "source": [
    "## Фидбек (бесценно)"
   ]
  },
  {
   "cell_type": "markdown",
   "metadata": {},
   "source": [
    "* Какие аспекты обучения  ансамблей Вам показались непонятными? Какое место стоит дополнительно объяснить?"
   ]
  },
  {
   "cell_type": "markdown",
   "metadata": {},
   "source": [
    "### Ваш ответ здесь"
   ]
  },
  {
   "cell_type": "markdown",
   "metadata": {},
   "source": [
    "* Здесь Вы можете оставить отзыв о этой домашней работе или о всем курсе."
   ]
  },
  {
   "cell_type": "markdown",
   "metadata": {},
   "source": [
    "### ВАШ ОТЗЫВ ЗДЕСЬ\n",
    "\n"
   ]
  },
  {
   "cell_type": "code",
   "execution_count": null,
   "metadata": {},
   "outputs": [],
   "source": []
  },
  {
   "cell_type": "code",
   "execution_count": null,
   "metadata": {},
   "outputs": [],
   "source": []
  }
 ],
 "metadata": {
  "anaconda-cloud": {},
  "kernelspec": {
   "display_name": "Python 3",
   "language": "python",
   "name": "python3"
  },
  "language_info": {
   "codemirror_mode": {
    "name": "ipython",
    "version": 3
   },
   "file_extension": ".py",
   "mimetype": "text/x-python",
   "name": "python",
   "nbconvert_exporter": "python",
   "pygments_lexer": "ipython3",
   "version": "3.7.9"
  }
 },
 "nbformat": 4,
 "nbformat_minor": 2
}
